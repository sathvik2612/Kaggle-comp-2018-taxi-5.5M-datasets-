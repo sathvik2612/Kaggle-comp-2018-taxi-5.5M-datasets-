{
  "cells": [
    {
      "cell_type": "code",
      "execution_count": 1,
      "metadata": {
        "id": "kfqPsmXkTWFF"
      },
      "outputs": [],
      "source": [
        "!pip install opendatasets pandas numpy scikit-learn xgboost --quiet"
      ]
    },
    {
      "cell_type": "code",
      "execution_count": 2,
      "metadata": {
        "id": "N0fXGv7eTfbq"
      },
      "outputs": [],
      "source": [
        "import opendatasets as od\n",
        "dataset_url=\"https://www.kaggle.com/c/new-york-city-taxi-fare-prediction\""
      ]
    },
    {
      "cell_type": "code",
      "execution_count": 3,
      "metadata": {
        "colab": {
          "base_uri": "https://localhost:8080/"
        },
        "id": "K3CT8IbAUHyF",
        "outputId": "88885b30-4dfb-4550-8b54-6fc4f5833db9"
      },
      "outputs": [
        {
          "output_type": "stream",
          "name": "stdout",
          "text": [
            "Please provide your Kaggle credentials to download this dataset. Learn more: http://bit.ly/kaggle-creds\n",
            "Your Kaggle username: mandavasathvik\n",
            "Your Kaggle Key: ··········\n",
            "Downloading new-york-city-taxi-fare-prediction.zip to ./new-york-city-taxi-fare-prediction\n"
          ]
        },
        {
          "output_type": "stream",
          "name": "stderr",
          "text": [
            "100%|██████████| 1.56G/1.56G [00:13<00:00, 124MB/s]\n"
          ]
        },
        {
          "output_type": "stream",
          "name": "stdout",
          "text": [
            "\n",
            "Extracting archive ./new-york-city-taxi-fare-prediction/new-york-city-taxi-fare-prediction.zip to ./new-york-city-taxi-fare-prediction\n"
          ]
        }
      ],
      "source": [
        "od.download(dataset_url)"
      ]
    },
    {
      "cell_type": "code",
      "execution_count": 4,
      "metadata": {
        "colab": {
          "base_uri": "https://localhost:8080/"
        },
        "id": "NS0mJ-VRUObO",
        "outputId": "08467c24-30bc-494a-af77-99332be59d83"
      },
      "outputs": [
        {
          "output_type": "stream",
          "name": "stdout",
          "text": [
            "new-york-city-taxi-fare-prediction  sample_data\n"
          ]
        }
      ],
      "source": [
        "!ls"
      ]
    },
    {
      "cell_type": "code",
      "execution_count": 5,
      "metadata": {
        "id": "Hc8DDzVjVV_y"
      },
      "outputs": [],
      "source": [
        "data_dir='new-york-city-taxi-fare-prediction'"
      ]
    },
    {
      "cell_type": "code",
      "execution_count": 6,
      "metadata": {
        "colab": {
          "base_uri": "https://localhost:8080/"
        },
        "id": "a44vvOPCVhnH",
        "outputId": "266a6999-3d8c-4b80-917b-ee405dd1b84f"
      },
      "outputs": [
        {
          "output_type": "stream",
          "name": "stdout",
          "text": [
            "total 5.4G\n",
            "-rw-r--r-- 1 root root  486 Jun 22 09:07 GCP-Coupons-Instructions.rtf\n",
            "-rw-r--r-- 1 root root 336K Jun 22 09:07 sample_submission.csv\n",
            "-rw-r--r-- 1 root root 960K Jun 22 09:07 test.csv\n",
            "-rw-r--r-- 1 root root 5.4G Jun 22 09:08 train.csv\n"
          ]
        }
      ],
      "source": [
        "#shows the data\n",
        "!ls -lh {data_dir} "
      ]
    },
    {
      "cell_type": "code",
      "execution_count": 7,
      "metadata": {
        "colab": {
          "base_uri": "https://localhost:8080/"
        },
        "id": "Q32W_JyiVsr7",
        "outputId": "85d5b7ca-5da6-4538-86d9-51cfe48cf152"
      },
      "outputs": [
        {
          "output_type": "stream",
          "name": "stdout",
          "text": [
            "55423856 new-york-city-taxi-fare-prediction/train.csv\n"
          ]
        }
      ],
      "source": [
        "#number of lines\n",
        "!wc -l {data_dir}/train.csv "
      ]
    },
    {
      "cell_type": "code",
      "execution_count": 8,
      "metadata": {
        "colab": {
          "base_uri": "https://localhost:8080/"
        },
        "id": "8jIPRFCAWCtp",
        "outputId": "f35b6e2d-0dc9-4ba1-b4c5-065cbf3a16b3"
      },
      "outputs": [
        {
          "output_type": "stream",
          "name": "stdout",
          "text": [
            "9914 new-york-city-taxi-fare-prediction/test.csv\n"
          ]
        }
      ],
      "source": [
        "\n",
        "!wc -l {data_dir}/test.csv "
      ]
    },
    {
      "cell_type": "code",
      "execution_count": 9,
      "metadata": {
        "colab": {
          "base_uri": "https://localhost:8080/"
        },
        "id": "VRhHUJewWYYp",
        "outputId": "b07d2570-2116-4f40-8ffe-72c92df20565"
      },
      "outputs": [
        {
          "output_type": "stream",
          "name": "stdout",
          "text": [
            "key,fare_amount,pickup_datetime,pickup_longitude,pickup_latitude,dropoff_longitude,dropoff_latitude,passenger_count\r\n",
            "2009-06-15 17:26:21.0000001,4.5,2009-06-15 17:26:21 UTC,-73.844311,40.721319,-73.84161,40.712278,1\r\n",
            "2010-01-05 16:52:16.0000002,16.9,2010-01-05 16:52:16 UTC,-74.016048,40.711303,-73.979268,40.782004,1\r\n",
            "2011-08-18 00:35:00.00000049,5.7,2011-08-18 00:35:00 UTC,-73.982738,40.76127,-73.991242,40.750562,2\r\n",
            "2012-04-21 04:30:42.0000001,7.7,2012-04-21 04:30:42 UTC,-73.98713,40.733143,-73.991567,40.758092,1\r\n",
            "2010-03-09 07:51:00.000000135,5.3,2010-03-09 07:51:00 UTC,-73.968095,40.768008,-73.956655,40.783762,1\r\n",
            "2011-01-06 09:50:45.0000002,12.1,2011-01-06 09:50:45 UTC,-74.000964,40.73163,-73.972892,40.758233,1\r\n",
            "2012-11-20 20:35:00.0000001,7.5,2012-11-20 20:35:00 UTC,-73.980002,40.751662,-73.973802,40.764842,1\r\n",
            "2012-01-04 17:22:00.00000081,16.5,2012-01-04 17:22:00 UTC,-73.9513,40.774138,-73.990095,40.751048,1\r\n",
            "2012-12-03 13:10:00.000000125,9,2012-12-03 13:10:00 UTC,-74.006462,40.726713,-73.993078,40.731628,1\r\n"
          ]
        }
      ],
      "source": [
        "#looking at first few line of the data\n",
        "\n",
        "!head {data_dir}/train.csv"
      ]
    },
    {
      "cell_type": "code",
      "execution_count": 10,
      "metadata": {
        "colab": {
          "base_uri": "https://localhost:8080/"
        },
        "id": "PXyOn6GfWq9t",
        "outputId": "e715a685-2184-4f86-cd4a-2180f508b92a"
      },
      "outputs": [
        {
          "output_type": "stream",
          "name": "stdout",
          "text": [
            "key,pickup_datetime,pickup_longitude,pickup_latitude,dropoff_longitude,dropoff_latitude,passenger_count\r\n",
            "2015-01-27 13:08:24.0000002,2015-01-27 13:08:24 UTC,-73.973320007324219,40.7638053894043,-73.981430053710938,40.74383544921875,1\r\n",
            "2015-01-27 13:08:24.0000003,2015-01-27 13:08:24 UTC,-73.986862182617188,40.719383239746094,-73.998886108398438,40.739200592041016,1\r\n",
            "2011-10-08 11:53:44.0000002,2011-10-08 11:53:44 UTC,-73.982524,40.75126,-73.979654,40.746139,1\r\n",
            "2012-12-01 21:12:12.0000002,2012-12-01 21:12:12 UTC,-73.98116,40.767807,-73.990448,40.751635,1\r\n",
            "2012-12-01 21:12:12.0000003,2012-12-01 21:12:12 UTC,-73.966046,40.789775,-73.988565,40.744427,1\r\n",
            "2012-12-01 21:12:12.0000005,2012-12-01 21:12:12 UTC,-73.960983,40.765547,-73.979177,40.740053,1\r\n",
            "2011-10-06 12:10:20.0000001,2011-10-06 12:10:20 UTC,-73.949013,40.773204,-73.959622,40.770893,1\r\n",
            "2011-10-06 12:10:20.0000003,2011-10-06 12:10:20 UTC,-73.777282,40.646636,-73.985083,40.759368,1\r\n",
            "2011-10-06 12:10:20.0000002,2011-10-06 12:10:20 UTC,-74.014099,40.709638,-73.995106,40.741365,1\r\n"
          ]
        }
      ],
      "source": [
        "!head {data_dir}/test.csv"
      ]
    },
    {
      "cell_type": "markdown",
      "metadata": {
        "id": "ln5Y7ofiZB22"
      },
      "source": [
        " as data is large we are going to pick up smaller once and come back to the bigger once for implementation\n"
      ]
    },
    {
      "cell_type": "code",
      "execution_count": 11,
      "metadata": {
        "id": "3RXwJQ6QZHWT"
      },
      "outputs": [],
      "source": [
        "import pandas as pd"
      ]
    },
    {
      "cell_type": "code",
      "execution_count": 12,
      "metadata": {
        "colab": {
          "base_uri": "https://localhost:8080/"
        },
        "id": "EmJY90KNaLc8",
        "outputId": "9a1bcb71-b297-4f68-b617-3ae9e1b15e13"
      },
      "outputs": [
        {
          "output_type": "execute_result",
          "data": {
            "text/plain": [
              "['fare_amount',\n",
              " 'pickup_datetime',\n",
              " 'pickup_longitude',\n",
              " 'pickup_latitude',\n",
              " 'dropoff_longitude',\n",
              " 'dropoff_latitude',\n",
              " 'passenger_count']"
            ]
          },
          "metadata": {},
          "execution_count": 12
        }
      ],
      "source": [
        "selected_cols='fare_amount,pickup_datetime,pickup_longitude,pickup_latitude,dropoff_longitude,dropoff_latitude,passenger_count'.split(',')\n",
        "selected_cols"
      ]
    },
    {
      "cell_type": "code",
      "execution_count": 13,
      "metadata": {
        "id": "GfDyRM9WaZhf"
      },
      "outputs": [],
      "source": [
        "dtypes={\n",
        "    'fare_amount':'float32',\n",
        "    \n",
        "    'pickup_longitude':'float32',\n",
        "    'pickup_latitude':'float32',\n",
        "    'dropoff_longitude':'float32',\n",
        "    'dropoff_latitude':'float32',\n",
        "    'passenger_count':'uint8',\n",
        "}"
      ]
    },
    {
      "cell_type": "code",
      "execution_count": 14,
      "metadata": {
        "id": "tJCG7Z3db35G"
      },
      "outputs": [],
      "source": [
        "import random"
      ]
    },
    {
      "cell_type": "code",
      "execution_count": 15,
      "metadata": {
        "colab": {
          "base_uri": "https://localhost:8080/"
        },
        "id": "TaAxlBT4b50l",
        "outputId": "b0205e2e-d0c1-4179-9f46-3c8daae254ca"
      },
      "outputs": [
        {
          "output_type": "execute_result",
          "data": {
            "text/plain": [
              "0.49169931548457624"
            ]
          },
          "metadata": {},
          "execution_count": 15
        }
      ],
      "source": [
        "random.random()"
      ]
    },
    {
      "cell_type": "code",
      "execution_count": 16,
      "metadata": {
        "id": "6MaVMZtGZP5W"
      },
      "outputs": [],
      "source": [
        "sample_fraction=0.01\n",
        "def skip_row(row_idx):\n",
        "  if row_idx==0:\n",
        "    return False\n",
        "  return random.random()>sample_fraction\n",
        "#random.seed is used to make sure you are getting the same random values every time you rerun the notebook\n",
        "random.seed(42)\n",
        "\n",
        "df=pd.read_csv(data_dir+'/train.csv',\n",
        "               usecols=selected_cols,\n",
        "               parse_dates=['pickup_datetime'],\n",
        "               dtype=dtypes,\n",
        "               skiprows=skip_row)"
      ]
    },
    {
      "cell_type": "code",
      "execution_count": 17,
      "metadata": {
        "colab": {
          "base_uri": "https://localhost:8080/"
        },
        "id": "Jm0pikiqeWCa",
        "outputId": "0b76288e-170e-4dad-d86a-0e7ebd3adf54"
      },
      "outputs": [
        {
          "output_type": "execute_result",
          "data": {
            "text/plain": [
              "<module 'pandas' from '/usr/local/lib/python3.7/dist-packages/pandas/__init__.py'>"
            ]
          },
          "metadata": {},
          "execution_count": 17
        }
      ],
      "source": [
        "pd"
      ]
    },
    {
      "cell_type": "code",
      "execution_count": 18,
      "metadata": {
        "colab": {
          "base_uri": "https://localhost:8080/",
          "height": 424
        },
        "id": "M21TCbGhgSuv",
        "outputId": "63716931-626e-4df2-f380-ef33bc52960f"
      },
      "outputs": [
        {
          "output_type": "execute_result",
          "data": {
            "text/plain": [
              "        fare_amount           pickup_datetime  pickup_longitude  \\\n",
              "0               4.0 2014-12-06 20:36:22+00:00        -73.979813   \n",
              "1               8.0 2013-01-17 17:22:00+00:00          0.000000   \n",
              "2               8.9 2011-06-15 18:07:00+00:00        -73.996330   \n",
              "3               6.9 2009-12-14 12:33:00+00:00        -73.982430   \n",
              "4               7.0 2013-11-06 11:26:54+00:00        -73.959061   \n",
              "...             ...                       ...               ...   \n",
              "552445         45.0 2014-02-06 23:59:45+00:00        -73.973587   \n",
              "552446         22.5 2015-01-05 15:29:08+00:00        -73.935928   \n",
              "552447          4.5 2013-02-17 22:27:00+00:00        -73.992531   \n",
              "552448         14.5 2013-01-27 12:41:00+00:00        -74.012115   \n",
              "552449          6.0 2014-10-18 07:51:00+00:00        -73.997681   \n",
              "\n",
              "        pickup_latitude  dropoff_longitude  dropoff_latitude  passenger_count  \n",
              "0             40.751904         -73.979446         40.755482                1  \n",
              "1              0.000000           0.000000          0.000000                2  \n",
              "2             40.753223         -73.978897         40.766964                3  \n",
              "3             40.745747         -73.982430         40.745747                1  \n",
              "4             40.781059         -73.962059         40.768604                1  \n",
              "...                 ...                ...               ...              ...  \n",
              "552445        40.747669         -73.999916         40.602894                1  \n",
              "552446        40.799656         -73.985710         40.726952                2  \n",
              "552447        40.748619         -73.998436         40.740143                1  \n",
              "552448        40.706635         -73.988724         40.756218                1  \n",
              "552449        40.724380         -73.994148         40.717796                1  \n",
              "\n",
              "[552450 rows x 7 columns]"
            ],
            "text/html": [
              "\n",
              "  <div id=\"df-0dea5fc4-b1c9-4251-b8df-9909483c13ba\">\n",
              "    <div class=\"colab-df-container\">\n",
              "      <div>\n",
              "<style scoped>\n",
              "    .dataframe tbody tr th:only-of-type {\n",
              "        vertical-align: middle;\n",
              "    }\n",
              "\n",
              "    .dataframe tbody tr th {\n",
              "        vertical-align: top;\n",
              "    }\n",
              "\n",
              "    .dataframe thead th {\n",
              "        text-align: right;\n",
              "    }\n",
              "</style>\n",
              "<table border=\"1\" class=\"dataframe\">\n",
              "  <thead>\n",
              "    <tr style=\"text-align: right;\">\n",
              "      <th></th>\n",
              "      <th>fare_amount</th>\n",
              "      <th>pickup_datetime</th>\n",
              "      <th>pickup_longitude</th>\n",
              "      <th>pickup_latitude</th>\n",
              "      <th>dropoff_longitude</th>\n",
              "      <th>dropoff_latitude</th>\n",
              "      <th>passenger_count</th>\n",
              "    </tr>\n",
              "  </thead>\n",
              "  <tbody>\n",
              "    <tr>\n",
              "      <th>0</th>\n",
              "      <td>4.0</td>\n",
              "      <td>2014-12-06 20:36:22+00:00</td>\n",
              "      <td>-73.979813</td>\n",
              "      <td>40.751904</td>\n",
              "      <td>-73.979446</td>\n",
              "      <td>40.755482</td>\n",
              "      <td>1</td>\n",
              "    </tr>\n",
              "    <tr>\n",
              "      <th>1</th>\n",
              "      <td>8.0</td>\n",
              "      <td>2013-01-17 17:22:00+00:00</td>\n",
              "      <td>0.000000</td>\n",
              "      <td>0.000000</td>\n",
              "      <td>0.000000</td>\n",
              "      <td>0.000000</td>\n",
              "      <td>2</td>\n",
              "    </tr>\n",
              "    <tr>\n",
              "      <th>2</th>\n",
              "      <td>8.9</td>\n",
              "      <td>2011-06-15 18:07:00+00:00</td>\n",
              "      <td>-73.996330</td>\n",
              "      <td>40.753223</td>\n",
              "      <td>-73.978897</td>\n",
              "      <td>40.766964</td>\n",
              "      <td>3</td>\n",
              "    </tr>\n",
              "    <tr>\n",
              "      <th>3</th>\n",
              "      <td>6.9</td>\n",
              "      <td>2009-12-14 12:33:00+00:00</td>\n",
              "      <td>-73.982430</td>\n",
              "      <td>40.745747</td>\n",
              "      <td>-73.982430</td>\n",
              "      <td>40.745747</td>\n",
              "      <td>1</td>\n",
              "    </tr>\n",
              "    <tr>\n",
              "      <th>4</th>\n",
              "      <td>7.0</td>\n",
              "      <td>2013-11-06 11:26:54+00:00</td>\n",
              "      <td>-73.959061</td>\n",
              "      <td>40.781059</td>\n",
              "      <td>-73.962059</td>\n",
              "      <td>40.768604</td>\n",
              "      <td>1</td>\n",
              "    </tr>\n",
              "    <tr>\n",
              "      <th>...</th>\n",
              "      <td>...</td>\n",
              "      <td>...</td>\n",
              "      <td>...</td>\n",
              "      <td>...</td>\n",
              "      <td>...</td>\n",
              "      <td>...</td>\n",
              "      <td>...</td>\n",
              "    </tr>\n",
              "    <tr>\n",
              "      <th>552445</th>\n",
              "      <td>45.0</td>\n",
              "      <td>2014-02-06 23:59:45+00:00</td>\n",
              "      <td>-73.973587</td>\n",
              "      <td>40.747669</td>\n",
              "      <td>-73.999916</td>\n",
              "      <td>40.602894</td>\n",
              "      <td>1</td>\n",
              "    </tr>\n",
              "    <tr>\n",
              "      <th>552446</th>\n",
              "      <td>22.5</td>\n",
              "      <td>2015-01-05 15:29:08+00:00</td>\n",
              "      <td>-73.935928</td>\n",
              "      <td>40.799656</td>\n",
              "      <td>-73.985710</td>\n",
              "      <td>40.726952</td>\n",
              "      <td>2</td>\n",
              "    </tr>\n",
              "    <tr>\n",
              "      <th>552447</th>\n",
              "      <td>4.5</td>\n",
              "      <td>2013-02-17 22:27:00+00:00</td>\n",
              "      <td>-73.992531</td>\n",
              "      <td>40.748619</td>\n",
              "      <td>-73.998436</td>\n",
              "      <td>40.740143</td>\n",
              "      <td>1</td>\n",
              "    </tr>\n",
              "    <tr>\n",
              "      <th>552448</th>\n",
              "      <td>14.5</td>\n",
              "      <td>2013-01-27 12:41:00+00:00</td>\n",
              "      <td>-74.012115</td>\n",
              "      <td>40.706635</td>\n",
              "      <td>-73.988724</td>\n",
              "      <td>40.756218</td>\n",
              "      <td>1</td>\n",
              "    </tr>\n",
              "    <tr>\n",
              "      <th>552449</th>\n",
              "      <td>6.0</td>\n",
              "      <td>2014-10-18 07:51:00+00:00</td>\n",
              "      <td>-73.997681</td>\n",
              "      <td>40.724380</td>\n",
              "      <td>-73.994148</td>\n",
              "      <td>40.717796</td>\n",
              "      <td>1</td>\n",
              "    </tr>\n",
              "  </tbody>\n",
              "</table>\n",
              "<p>552450 rows × 7 columns</p>\n",
              "</div>\n",
              "      <button class=\"colab-df-convert\" onclick=\"convertToInteractive('df-0dea5fc4-b1c9-4251-b8df-9909483c13ba')\"\n",
              "              title=\"Convert this dataframe to an interactive table.\"\n",
              "              style=\"display:none;\">\n",
              "        \n",
              "  <svg xmlns=\"http://www.w3.org/2000/svg\" height=\"24px\"viewBox=\"0 0 24 24\"\n",
              "       width=\"24px\">\n",
              "    <path d=\"M0 0h24v24H0V0z\" fill=\"none\"/>\n",
              "    <path d=\"M18.56 5.44l.94 2.06.94-2.06 2.06-.94-2.06-.94-.94-2.06-.94 2.06-2.06.94zm-11 1L8.5 8.5l.94-2.06 2.06-.94-2.06-.94L8.5 2.5l-.94 2.06-2.06.94zm10 10l.94 2.06.94-2.06 2.06-.94-2.06-.94-.94-2.06-.94 2.06-2.06.94z\"/><path d=\"M17.41 7.96l-1.37-1.37c-.4-.4-.92-.59-1.43-.59-.52 0-1.04.2-1.43.59L10.3 9.45l-7.72 7.72c-.78.78-.78 2.05 0 2.83L4 21.41c.39.39.9.59 1.41.59.51 0 1.02-.2 1.41-.59l7.78-7.78 2.81-2.81c.8-.78.8-2.07 0-2.86zM5.41 20L4 18.59l7.72-7.72 1.47 1.35L5.41 20z\"/>\n",
              "  </svg>\n",
              "      </button>\n",
              "      \n",
              "  <style>\n",
              "    .colab-df-container {\n",
              "      display:flex;\n",
              "      flex-wrap:wrap;\n",
              "      gap: 12px;\n",
              "    }\n",
              "\n",
              "    .colab-df-convert {\n",
              "      background-color: #E8F0FE;\n",
              "      border: none;\n",
              "      border-radius: 50%;\n",
              "      cursor: pointer;\n",
              "      display: none;\n",
              "      fill: #1967D2;\n",
              "      height: 32px;\n",
              "      padding: 0 0 0 0;\n",
              "      width: 32px;\n",
              "    }\n",
              "\n",
              "    .colab-df-convert:hover {\n",
              "      background-color: #E2EBFA;\n",
              "      box-shadow: 0px 1px 2px rgba(60, 64, 67, 0.3), 0px 1px 3px 1px rgba(60, 64, 67, 0.15);\n",
              "      fill: #174EA6;\n",
              "    }\n",
              "\n",
              "    [theme=dark] .colab-df-convert {\n",
              "      background-color: #3B4455;\n",
              "      fill: #D2E3FC;\n",
              "    }\n",
              "\n",
              "    [theme=dark] .colab-df-convert:hover {\n",
              "      background-color: #434B5C;\n",
              "      box-shadow: 0px 1px 3px 1px rgba(0, 0, 0, 0.15);\n",
              "      filter: drop-shadow(0px 1px 2px rgba(0, 0, 0, 0.3));\n",
              "      fill: #FFFFFF;\n",
              "    }\n",
              "  </style>\n",
              "\n",
              "      <script>\n",
              "        const buttonEl =\n",
              "          document.querySelector('#df-0dea5fc4-b1c9-4251-b8df-9909483c13ba button.colab-df-convert');\n",
              "        buttonEl.style.display =\n",
              "          google.colab.kernel.accessAllowed ? 'block' : 'none';\n",
              "\n",
              "        async function convertToInteractive(key) {\n",
              "          const element = document.querySelector('#df-0dea5fc4-b1c9-4251-b8df-9909483c13ba');\n",
              "          const dataTable =\n",
              "            await google.colab.kernel.invokeFunction('convertToInteractive',\n",
              "                                                     [key], {});\n",
              "          if (!dataTable) return;\n",
              "\n",
              "          const docLinkHtml = 'Like what you see? Visit the ' +\n",
              "            '<a target=\"_blank\" href=https://colab.research.google.com/notebooks/data_table.ipynb>data table notebook</a>'\n",
              "            + ' to learn more about interactive tables.';\n",
              "          element.innerHTML = '';\n",
              "          dataTable['output_type'] = 'display_data';\n",
              "          await google.colab.output.renderOutput(dataTable, element);\n",
              "          const docLink = document.createElement('div');\n",
              "          docLink.innerHTML = docLinkHtml;\n",
              "          element.appendChild(docLink);\n",
              "        }\n",
              "      </script>\n",
              "    </div>\n",
              "  </div>\n",
              "  "
            ]
          },
          "metadata": {},
          "execution_count": 18
        }
      ],
      "source": [
        "df"
      ]
    },
    {
      "cell_type": "code",
      "execution_count": 19,
      "metadata": {
        "id": "HAiEc-G2gWaN"
      },
      "outputs": [],
      "source": [
        "test_df=pd.read_csv(data_dir+'/test.csv',dtype=dtypes,parse_dates=['pickup_datetime'])"
      ]
    },
    {
      "cell_type": "markdown",
      "metadata": {
        "id": "QQhTqS_Ih-RD"
      },
      "source": [
        "Evaluate the errors and data require for cleaning"
      ]
    },
    {
      "cell_type": "code",
      "execution_count": 20,
      "metadata": {
        "colab": {
          "base_uri": "https://localhost:8080/",
          "height": 300
        },
        "id": "sOBtO1w3gzoI",
        "outputId": "13e1fe15-ef2f-4cc6-db8b-9e7f273804f6"
      },
      "outputs": [
        {
          "output_type": "execute_result",
          "data": {
            "text/plain": [
              "         fare_amount  pickup_longitude  pickup_latitude  dropoff_longitude  \\\n",
              "count  552450.000000     552450.000000    552450.000000      552450.000000   \n",
              "mean       11.354059        -72.497063        39.910500         -72.504326   \n",
              "std         9.811924         11.618246         8.061114          12.074346   \n",
              "min       -52.000000      -1183.362793     -3084.490234       -3356.729736   \n",
              "25%         6.000000        -73.992020        40.734875         -73.991425   \n",
              "50%         8.500000        -73.981819        40.752621         -73.980179   \n",
              "75%        12.500000        -73.967155        40.767036         -73.963737   \n",
              "max       499.000000       2420.209473       404.983337        2467.752686   \n",
              "\n",
              "       dropoff_latitude  passenger_count  \n",
              "count     552450.000000    552450.000000  \n",
              "mean          39.934265         1.684983  \n",
              "std            9.255057         1.337664  \n",
              "min        -2073.150635         0.000000  \n",
              "25%           40.733990         1.000000  \n",
              "50%           40.753101         1.000000  \n",
              "75%           40.768059         2.000000  \n",
              "max         3351.403076       208.000000  "
            ],
            "text/html": [
              "\n",
              "  <div id=\"df-5ee0a5e8-15f9-4ce3-b641-447027673a4a\">\n",
              "    <div class=\"colab-df-container\">\n",
              "      <div>\n",
              "<style scoped>\n",
              "    .dataframe tbody tr th:only-of-type {\n",
              "        vertical-align: middle;\n",
              "    }\n",
              "\n",
              "    .dataframe tbody tr th {\n",
              "        vertical-align: top;\n",
              "    }\n",
              "\n",
              "    .dataframe thead th {\n",
              "        text-align: right;\n",
              "    }\n",
              "</style>\n",
              "<table border=\"1\" class=\"dataframe\">\n",
              "  <thead>\n",
              "    <tr style=\"text-align: right;\">\n",
              "      <th></th>\n",
              "      <th>fare_amount</th>\n",
              "      <th>pickup_longitude</th>\n",
              "      <th>pickup_latitude</th>\n",
              "      <th>dropoff_longitude</th>\n",
              "      <th>dropoff_latitude</th>\n",
              "      <th>passenger_count</th>\n",
              "    </tr>\n",
              "  </thead>\n",
              "  <tbody>\n",
              "    <tr>\n",
              "      <th>count</th>\n",
              "      <td>552450.000000</td>\n",
              "      <td>552450.000000</td>\n",
              "      <td>552450.000000</td>\n",
              "      <td>552450.000000</td>\n",
              "      <td>552450.000000</td>\n",
              "      <td>552450.000000</td>\n",
              "    </tr>\n",
              "    <tr>\n",
              "      <th>mean</th>\n",
              "      <td>11.354059</td>\n",
              "      <td>-72.497063</td>\n",
              "      <td>39.910500</td>\n",
              "      <td>-72.504326</td>\n",
              "      <td>39.934265</td>\n",
              "      <td>1.684983</td>\n",
              "    </tr>\n",
              "    <tr>\n",
              "      <th>std</th>\n",
              "      <td>9.811924</td>\n",
              "      <td>11.618246</td>\n",
              "      <td>8.061114</td>\n",
              "      <td>12.074346</td>\n",
              "      <td>9.255057</td>\n",
              "      <td>1.337664</td>\n",
              "    </tr>\n",
              "    <tr>\n",
              "      <th>min</th>\n",
              "      <td>-52.000000</td>\n",
              "      <td>-1183.362793</td>\n",
              "      <td>-3084.490234</td>\n",
              "      <td>-3356.729736</td>\n",
              "      <td>-2073.150635</td>\n",
              "      <td>0.000000</td>\n",
              "    </tr>\n",
              "    <tr>\n",
              "      <th>25%</th>\n",
              "      <td>6.000000</td>\n",
              "      <td>-73.992020</td>\n",
              "      <td>40.734875</td>\n",
              "      <td>-73.991425</td>\n",
              "      <td>40.733990</td>\n",
              "      <td>1.000000</td>\n",
              "    </tr>\n",
              "    <tr>\n",
              "      <th>50%</th>\n",
              "      <td>8.500000</td>\n",
              "      <td>-73.981819</td>\n",
              "      <td>40.752621</td>\n",
              "      <td>-73.980179</td>\n",
              "      <td>40.753101</td>\n",
              "      <td>1.000000</td>\n",
              "    </tr>\n",
              "    <tr>\n",
              "      <th>75%</th>\n",
              "      <td>12.500000</td>\n",
              "      <td>-73.967155</td>\n",
              "      <td>40.767036</td>\n",
              "      <td>-73.963737</td>\n",
              "      <td>40.768059</td>\n",
              "      <td>2.000000</td>\n",
              "    </tr>\n",
              "    <tr>\n",
              "      <th>max</th>\n",
              "      <td>499.000000</td>\n",
              "      <td>2420.209473</td>\n",
              "      <td>404.983337</td>\n",
              "      <td>2467.752686</td>\n",
              "      <td>3351.403076</td>\n",
              "      <td>208.000000</td>\n",
              "    </tr>\n",
              "  </tbody>\n",
              "</table>\n",
              "</div>\n",
              "      <button class=\"colab-df-convert\" onclick=\"convertToInteractive('df-5ee0a5e8-15f9-4ce3-b641-447027673a4a')\"\n",
              "              title=\"Convert this dataframe to an interactive table.\"\n",
              "              style=\"display:none;\">\n",
              "        \n",
              "  <svg xmlns=\"http://www.w3.org/2000/svg\" height=\"24px\"viewBox=\"0 0 24 24\"\n",
              "       width=\"24px\">\n",
              "    <path d=\"M0 0h24v24H0V0z\" fill=\"none\"/>\n",
              "    <path d=\"M18.56 5.44l.94 2.06.94-2.06 2.06-.94-2.06-.94-.94-2.06-.94 2.06-2.06.94zm-11 1L8.5 8.5l.94-2.06 2.06-.94-2.06-.94L8.5 2.5l-.94 2.06-2.06.94zm10 10l.94 2.06.94-2.06 2.06-.94-2.06-.94-.94-2.06-.94 2.06-2.06.94z\"/><path d=\"M17.41 7.96l-1.37-1.37c-.4-.4-.92-.59-1.43-.59-.52 0-1.04.2-1.43.59L10.3 9.45l-7.72 7.72c-.78.78-.78 2.05 0 2.83L4 21.41c.39.39.9.59 1.41.59.51 0 1.02-.2 1.41-.59l7.78-7.78 2.81-2.81c.8-.78.8-2.07 0-2.86zM5.41 20L4 18.59l7.72-7.72 1.47 1.35L5.41 20z\"/>\n",
              "  </svg>\n",
              "      </button>\n",
              "      \n",
              "  <style>\n",
              "    .colab-df-container {\n",
              "      display:flex;\n",
              "      flex-wrap:wrap;\n",
              "      gap: 12px;\n",
              "    }\n",
              "\n",
              "    .colab-df-convert {\n",
              "      background-color: #E8F0FE;\n",
              "      border: none;\n",
              "      border-radius: 50%;\n",
              "      cursor: pointer;\n",
              "      display: none;\n",
              "      fill: #1967D2;\n",
              "      height: 32px;\n",
              "      padding: 0 0 0 0;\n",
              "      width: 32px;\n",
              "    }\n",
              "\n",
              "    .colab-df-convert:hover {\n",
              "      background-color: #E2EBFA;\n",
              "      box-shadow: 0px 1px 2px rgba(60, 64, 67, 0.3), 0px 1px 3px 1px rgba(60, 64, 67, 0.15);\n",
              "      fill: #174EA6;\n",
              "    }\n",
              "\n",
              "    [theme=dark] .colab-df-convert {\n",
              "      background-color: #3B4455;\n",
              "      fill: #D2E3FC;\n",
              "    }\n",
              "\n",
              "    [theme=dark] .colab-df-convert:hover {\n",
              "      background-color: #434B5C;\n",
              "      box-shadow: 0px 1px 3px 1px rgba(0, 0, 0, 0.15);\n",
              "      filter: drop-shadow(0px 1px 2px rgba(0, 0, 0, 0.3));\n",
              "      fill: #FFFFFF;\n",
              "    }\n",
              "  </style>\n",
              "\n",
              "      <script>\n",
              "        const buttonEl =\n",
              "          document.querySelector('#df-5ee0a5e8-15f9-4ce3-b641-447027673a4a button.colab-df-convert');\n",
              "        buttonEl.style.display =\n",
              "          google.colab.kernel.accessAllowed ? 'block' : 'none';\n",
              "\n",
              "        async function convertToInteractive(key) {\n",
              "          const element = document.querySelector('#df-5ee0a5e8-15f9-4ce3-b641-447027673a4a');\n",
              "          const dataTable =\n",
              "            await google.colab.kernel.invokeFunction('convertToInteractive',\n",
              "                                                     [key], {});\n",
              "          if (!dataTable) return;\n",
              "\n",
              "          const docLinkHtml = 'Like what you see? Visit the ' +\n",
              "            '<a target=\"_blank\" href=https://colab.research.google.com/notebooks/data_table.ipynb>data table notebook</a>'\n",
              "            + ' to learn more about interactive tables.';\n",
              "          element.innerHTML = '';\n",
              "          dataTable['output_type'] = 'display_data';\n",
              "          await google.colab.output.renderOutput(dataTable, element);\n",
              "          const docLink = document.createElement('div');\n",
              "          docLink.innerHTML = docLinkHtml;\n",
              "          element.appendChild(docLink);\n",
              "        }\n",
              "      </script>\n",
              "    </div>\n",
              "  </div>\n",
              "  "
            ]
          },
          "metadata": {},
          "execution_count": 20
        }
      ],
      "source": [
        "df.describe()"
      ]
    },
    {
      "cell_type": "code",
      "execution_count": 21,
      "metadata": {
        "colab": {
          "base_uri": "https://localhost:8080/"
        },
        "id": "I7rSubQ2hGNF",
        "outputId": "5f9ae6da-07be-4141-af48-613e7e6df9db"
      },
      "outputs": [
        {
          "output_type": "stream",
          "name": "stdout",
          "text": [
            "<class 'pandas.core.frame.DataFrame'>\n",
            "RangeIndex: 552450 entries, 0 to 552449\n",
            "Data columns (total 7 columns):\n",
            " #   Column             Non-Null Count   Dtype              \n",
            "---  ------             --------------   -----              \n",
            " 0   fare_amount        552450 non-null  float32            \n",
            " 1   pickup_datetime    552450 non-null  datetime64[ns, UTC]\n",
            " 2   pickup_longitude   552450 non-null  float32            \n",
            " 3   pickup_latitude    552450 non-null  float32            \n",
            " 4   dropoff_longitude  552450 non-null  float32            \n",
            " 5   dropoff_latitude   552450 non-null  float32            \n",
            " 6   passenger_count    552450 non-null  uint8              \n",
            "dtypes: datetime64[ns, UTC](1), float32(5), uint8(1)\n",
            "memory usage: 15.3 MB\n"
          ]
        }
      ],
      "source": [
        "df.info()"
      ]
    },
    {
      "cell_type": "code",
      "execution_count": 22,
      "metadata": {
        "colab": {
          "base_uri": "https://localhost:8080/"
        },
        "id": "tXbot7nLhI3r",
        "outputId": "f64cbb2f-bb96-46ff-f18e-899ae6bcb093"
      },
      "outputs": [
        {
          "output_type": "execute_result",
          "data": {
            "text/plain": [
              "(Timestamp('2009-01-01 00:11:46+0000', tz='UTC'),\n",
              " Timestamp('2015-06-30 23:59:54+0000', tz='UTC'))"
            ]
          },
          "metadata": {},
          "execution_count": 22
        }
      ],
      "source": [
        "df['pickup_datetime'].min(),df['pickup_datetime'].max()"
      ]
    },
    {
      "cell_type": "markdown",
      "metadata": {
        "id": "IIsVMYqhiHxF"
      },
      "source": [
        "Going through test data"
      ]
    },
    {
      "cell_type": "code",
      "execution_count": 23,
      "metadata": {
        "colab": {
          "base_uri": "https://localhost:8080/"
        },
        "id": "qXKxP2T9hyus",
        "outputId": "af85b540-bf0d-4140-e3c1-627c91fa4fc0"
      },
      "outputs": [
        {
          "output_type": "stream",
          "name": "stdout",
          "text": [
            "<class 'pandas.core.frame.DataFrame'>\n",
            "RangeIndex: 9914 entries, 0 to 9913\n",
            "Data columns (total 7 columns):\n",
            " #   Column             Non-Null Count  Dtype              \n",
            "---  ------             --------------  -----              \n",
            " 0   key                9914 non-null   object             \n",
            " 1   pickup_datetime    9914 non-null   datetime64[ns, UTC]\n",
            " 2   pickup_longitude   9914 non-null   float32            \n",
            " 3   pickup_latitude    9914 non-null   float32            \n",
            " 4   dropoff_longitude  9914 non-null   float32            \n",
            " 5   dropoff_latitude   9914 non-null   float32            \n",
            " 6   passenger_count    9914 non-null   uint8              \n",
            "dtypes: datetime64[ns, UTC](1), float32(4), object(1), uint8(1)\n",
            "memory usage: 319.6+ KB\n"
          ]
        }
      ],
      "source": [
        "test_df.info()"
      ]
    },
    {
      "cell_type": "code",
      "execution_count": 24,
      "metadata": {
        "colab": {
          "base_uri": "https://localhost:8080/",
          "height": 300
        },
        "id": "09j75ly2iOhj",
        "outputId": "132da29e-f03f-4dfd-cf7e-552e4be195e4"
      },
      "outputs": [
        {
          "output_type": "execute_result",
          "data": {
            "text/plain": [
              "       pickup_longitude  pickup_latitude  dropoff_longitude  dropoff_latitude  \\\n",
              "count       9914.000000      9914.000000        9914.000000       9914.000000   \n",
              "mean         -73.974716        40.751041         -73.973656         40.751740   \n",
              "std            0.042774         0.033541           0.039072          0.035435   \n",
              "min          -74.252190        40.573143         -74.263245         40.568974   \n",
              "25%          -73.992500        40.736125         -73.991249         40.735253   \n",
              "50%          -73.982327        40.753052         -73.980015         40.754065   \n",
              "75%          -73.968012        40.767113         -73.964062         40.768757   \n",
              "max          -72.986534        41.709557         -72.990967         41.696682   \n",
              "\n",
              "       passenger_count  \n",
              "count      9914.000000  \n",
              "mean          1.671273  \n",
              "std           1.278747  \n",
              "min           1.000000  \n",
              "25%           1.000000  \n",
              "50%           1.000000  \n",
              "75%           2.000000  \n",
              "max           6.000000  "
            ],
            "text/html": [
              "\n",
              "  <div id=\"df-0098e06f-d182-4d92-84c0-1c978745019c\">\n",
              "    <div class=\"colab-df-container\">\n",
              "      <div>\n",
              "<style scoped>\n",
              "    .dataframe tbody tr th:only-of-type {\n",
              "        vertical-align: middle;\n",
              "    }\n",
              "\n",
              "    .dataframe tbody tr th {\n",
              "        vertical-align: top;\n",
              "    }\n",
              "\n",
              "    .dataframe thead th {\n",
              "        text-align: right;\n",
              "    }\n",
              "</style>\n",
              "<table border=\"1\" class=\"dataframe\">\n",
              "  <thead>\n",
              "    <tr style=\"text-align: right;\">\n",
              "      <th></th>\n",
              "      <th>pickup_longitude</th>\n",
              "      <th>pickup_latitude</th>\n",
              "      <th>dropoff_longitude</th>\n",
              "      <th>dropoff_latitude</th>\n",
              "      <th>passenger_count</th>\n",
              "    </tr>\n",
              "  </thead>\n",
              "  <tbody>\n",
              "    <tr>\n",
              "      <th>count</th>\n",
              "      <td>9914.000000</td>\n",
              "      <td>9914.000000</td>\n",
              "      <td>9914.000000</td>\n",
              "      <td>9914.000000</td>\n",
              "      <td>9914.000000</td>\n",
              "    </tr>\n",
              "    <tr>\n",
              "      <th>mean</th>\n",
              "      <td>-73.974716</td>\n",
              "      <td>40.751041</td>\n",
              "      <td>-73.973656</td>\n",
              "      <td>40.751740</td>\n",
              "      <td>1.671273</td>\n",
              "    </tr>\n",
              "    <tr>\n",
              "      <th>std</th>\n",
              "      <td>0.042774</td>\n",
              "      <td>0.033541</td>\n",
              "      <td>0.039072</td>\n",
              "      <td>0.035435</td>\n",
              "      <td>1.278747</td>\n",
              "    </tr>\n",
              "    <tr>\n",
              "      <th>min</th>\n",
              "      <td>-74.252190</td>\n",
              "      <td>40.573143</td>\n",
              "      <td>-74.263245</td>\n",
              "      <td>40.568974</td>\n",
              "      <td>1.000000</td>\n",
              "    </tr>\n",
              "    <tr>\n",
              "      <th>25%</th>\n",
              "      <td>-73.992500</td>\n",
              "      <td>40.736125</td>\n",
              "      <td>-73.991249</td>\n",
              "      <td>40.735253</td>\n",
              "      <td>1.000000</td>\n",
              "    </tr>\n",
              "    <tr>\n",
              "      <th>50%</th>\n",
              "      <td>-73.982327</td>\n",
              "      <td>40.753052</td>\n",
              "      <td>-73.980015</td>\n",
              "      <td>40.754065</td>\n",
              "      <td>1.000000</td>\n",
              "    </tr>\n",
              "    <tr>\n",
              "      <th>75%</th>\n",
              "      <td>-73.968012</td>\n",
              "      <td>40.767113</td>\n",
              "      <td>-73.964062</td>\n",
              "      <td>40.768757</td>\n",
              "      <td>2.000000</td>\n",
              "    </tr>\n",
              "    <tr>\n",
              "      <th>max</th>\n",
              "      <td>-72.986534</td>\n",
              "      <td>41.709557</td>\n",
              "      <td>-72.990967</td>\n",
              "      <td>41.696682</td>\n",
              "      <td>6.000000</td>\n",
              "    </tr>\n",
              "  </tbody>\n",
              "</table>\n",
              "</div>\n",
              "      <button class=\"colab-df-convert\" onclick=\"convertToInteractive('df-0098e06f-d182-4d92-84c0-1c978745019c')\"\n",
              "              title=\"Convert this dataframe to an interactive table.\"\n",
              "              style=\"display:none;\">\n",
              "        \n",
              "  <svg xmlns=\"http://www.w3.org/2000/svg\" height=\"24px\"viewBox=\"0 0 24 24\"\n",
              "       width=\"24px\">\n",
              "    <path d=\"M0 0h24v24H0V0z\" fill=\"none\"/>\n",
              "    <path d=\"M18.56 5.44l.94 2.06.94-2.06 2.06-.94-2.06-.94-.94-2.06-.94 2.06-2.06.94zm-11 1L8.5 8.5l.94-2.06 2.06-.94-2.06-.94L8.5 2.5l-.94 2.06-2.06.94zm10 10l.94 2.06.94-2.06 2.06-.94-2.06-.94-.94-2.06-.94 2.06-2.06.94z\"/><path d=\"M17.41 7.96l-1.37-1.37c-.4-.4-.92-.59-1.43-.59-.52 0-1.04.2-1.43.59L10.3 9.45l-7.72 7.72c-.78.78-.78 2.05 0 2.83L4 21.41c.39.39.9.59 1.41.59.51 0 1.02-.2 1.41-.59l7.78-7.78 2.81-2.81c.8-.78.8-2.07 0-2.86zM5.41 20L4 18.59l7.72-7.72 1.47 1.35L5.41 20z\"/>\n",
              "  </svg>\n",
              "      </button>\n",
              "      \n",
              "  <style>\n",
              "    .colab-df-container {\n",
              "      display:flex;\n",
              "      flex-wrap:wrap;\n",
              "      gap: 12px;\n",
              "    }\n",
              "\n",
              "    .colab-df-convert {\n",
              "      background-color: #E8F0FE;\n",
              "      border: none;\n",
              "      border-radius: 50%;\n",
              "      cursor: pointer;\n",
              "      display: none;\n",
              "      fill: #1967D2;\n",
              "      height: 32px;\n",
              "      padding: 0 0 0 0;\n",
              "      width: 32px;\n",
              "    }\n",
              "\n",
              "    .colab-df-convert:hover {\n",
              "      background-color: #E2EBFA;\n",
              "      box-shadow: 0px 1px 2px rgba(60, 64, 67, 0.3), 0px 1px 3px 1px rgba(60, 64, 67, 0.15);\n",
              "      fill: #174EA6;\n",
              "    }\n",
              "\n",
              "    [theme=dark] .colab-df-convert {\n",
              "      background-color: #3B4455;\n",
              "      fill: #D2E3FC;\n",
              "    }\n",
              "\n",
              "    [theme=dark] .colab-df-convert:hover {\n",
              "      background-color: #434B5C;\n",
              "      box-shadow: 0px 1px 3px 1px rgba(0, 0, 0, 0.15);\n",
              "      filter: drop-shadow(0px 1px 2px rgba(0, 0, 0, 0.3));\n",
              "      fill: #FFFFFF;\n",
              "    }\n",
              "  </style>\n",
              "\n",
              "      <script>\n",
              "        const buttonEl =\n",
              "          document.querySelector('#df-0098e06f-d182-4d92-84c0-1c978745019c button.colab-df-convert');\n",
              "        buttonEl.style.display =\n",
              "          google.colab.kernel.accessAllowed ? 'block' : 'none';\n",
              "\n",
              "        async function convertToInteractive(key) {\n",
              "          const element = document.querySelector('#df-0098e06f-d182-4d92-84c0-1c978745019c');\n",
              "          const dataTable =\n",
              "            await google.colab.kernel.invokeFunction('convertToInteractive',\n",
              "                                                     [key], {});\n",
              "          if (!dataTable) return;\n",
              "\n",
              "          const docLinkHtml = 'Like what you see? Visit the ' +\n",
              "            '<a target=\"_blank\" href=https://colab.research.google.com/notebooks/data_table.ipynb>data table notebook</a>'\n",
              "            + ' to learn more about interactive tables.';\n",
              "          element.innerHTML = '';\n",
              "          dataTable['output_type'] = 'display_data';\n",
              "          await google.colab.output.renderOutput(dataTable, element);\n",
              "          const docLink = document.createElement('div');\n",
              "          docLink.innerHTML = docLinkHtml;\n",
              "          element.appendChild(docLink);\n",
              "        }\n",
              "      </script>\n",
              "    </div>\n",
              "  </div>\n",
              "  "
            ]
          },
          "metadata": {},
          "execution_count": 24
        }
      ],
      "source": [
        "test_df.describe()"
      ]
    },
    {
      "cell_type": "code",
      "execution_count": 25,
      "metadata": {
        "colab": {
          "base_uri": "https://localhost:8080/"
        },
        "id": "9Yev1otziSVG",
        "outputId": "a91b31f5-2c84-4b69-9167-79156bf536fe"
      },
      "outputs": [
        {
          "output_type": "execute_result",
          "data": {
            "text/plain": [
              "(Timestamp('2009-01-01 11:04:24+0000', tz='UTC'),\n",
              " Timestamp('2015-06-30 23:59:54+0000', tz='UTC'))"
            ]
          },
          "metadata": {},
          "execution_count": 25
        }
      ],
      "source": [
        "test_df['pickup_datetime'].min(),df['pickup_datetime'].max()"
      ]
    },
    {
      "cell_type": "markdown",
      "metadata": {
        "id": "Q0xvKh7hld9W"
      },
      "source": [
        "We will take only 80% of the data to tests on unseen data"
      ]
    },
    {
      "cell_type": "code",
      "execution_count": 26,
      "metadata": {
        "id": "8vhiTZi5izli"
      },
      "outputs": [],
      "source": [
        "from sklearn.model_selection import train_test_split"
      ]
    },
    {
      "cell_type": "markdown",
      "metadata": {
        "id": "lOot3YxFmKkD"
      },
      "source": [
        "don't forget to add random state for very big datasets especially when you are using random seed\n"
      ]
    },
    {
      "cell_type": "code",
      "execution_count": 27,
      "metadata": {
        "id": "JBuOKq6JljDf"
      },
      "outputs": [],
      "source": [
        "train_df,val_df=train_test_split(df,test_size=0.2,random_state=42)"
      ]
    },
    {
      "cell_type": "code",
      "execution_count": 28,
      "metadata": {
        "colab": {
          "base_uri": "https://localhost:8080/"
        },
        "id": "3ZvcdD3dmVNO",
        "outputId": "3702b2aa-9ba7-4127-aca5-679110bcaecd"
      },
      "outputs": [
        {
          "output_type": "execute_result",
          "data": {
            "text/plain": [
              "(441960, 110490)"
            ]
          },
          "metadata": {},
          "execution_count": 28
        }
      ],
      "source": [
        "len(train_df),len(val_df)"
      ]
    },
    {
      "cell_type": "markdown",
      "metadata": {
        "id": "4D0IldS-mmbV"
      },
      "source": [
        "check whether your sample has missing value, it is okay to drop if it's less than 1%"
      ]
    },
    {
      "cell_type": "code",
      "execution_count": 29,
      "metadata": {
        "id": "J2YGoZnUmZky"
      },
      "outputs": [],
      "source": [
        "train_df=train_df.dropna()\n",
        "val_df=val_df.dropna()"
      ]
    },
    {
      "cell_type": "code",
      "execution_count": 30,
      "metadata": {
        "colab": {
          "base_uri": "https://localhost:8080/"
        },
        "id": "vQcrc1DVnBWn",
        "outputId": "b21425f2-f3f9-4136-c642-a25f9f71f7d1"
      },
      "outputs": [
        {
          "output_type": "execute_result",
          "data": {
            "text/plain": [
              "Index(['fare_amount', 'pickup_datetime', 'pickup_longitude', 'pickup_latitude',\n",
              "       'dropoff_longitude', 'dropoff_latitude', 'passenger_count'],\n",
              "      dtype='object')"
            ]
          },
          "metadata": {},
          "execution_count": 30
        }
      ],
      "source": [
        "train_df.columns"
      ]
    },
    {
      "cell_type": "markdown",
      "metadata": {
        "id": "h4_MO9FnoEAJ"
      },
      "source": [
        "Dividing the data for input and output"
      ]
    },
    {
      "cell_type": "code",
      "execution_count": 31,
      "metadata": {
        "id": "tX02kkFynZNR"
      },
      "outputs": [],
      "source": [
        "input_cols=[ 'pickup_longitude', 'pickup_latitude',\n",
        "       'dropoff_longitude', 'dropoff_latitude', 'passenger_count']"
      ]
    },
    {
      "cell_type": "code",
      "execution_count": 32,
      "metadata": {
        "id": "XyXnspWin8yD"
      },
      "outputs": [],
      "source": [
        "target_col='fare_amount'"
      ]
    },
    {
      "cell_type": "markdown",
      "metadata": {
        "id": "KG-V1ze9oN5J"
      },
      "source": [
        "Training"
      ]
    },
    {
      "cell_type": "code",
      "execution_count": 33,
      "metadata": {
        "id": "WuWAsy-SoNKT"
      },
      "outputs": [],
      "source": [
        "train_inputs=train_df[input_cols]"
      ]
    },
    {
      "cell_type": "code",
      "execution_count": 34,
      "metadata": {
        "id": "vdKEt_YfoQUB"
      },
      "outputs": [],
      "source": [
        "train_targets=train_df[target_col]"
      ]
    },
    {
      "cell_type": "code",
      "execution_count": 35,
      "metadata": {
        "colab": {
          "base_uri": "https://localhost:8080/",
          "height": 424
        },
        "id": "QXhl2CW-o3ZN",
        "outputId": "5a64b6ea-94dd-4a2e-a0e9-86f74f942a47"
      },
      "outputs": [
        {
          "output_type": "execute_result",
          "data": {
            "text/plain": [
              "        pickup_longitude  pickup_latitude  dropoff_longitude  \\\n",
              "353352        -73.993652        40.741543         -73.977974   \n",
              "360070        -73.993805        40.724579         -73.993805   \n",
              "372609        -73.959160        40.780750         -73.969116   \n",
              "550895        -73.952187        40.783951         -73.978645   \n",
              "444151        -73.977112        40.746834         -73.991104   \n",
              "...                  ...              ...                ...   \n",
              "110268        -73.987152        40.750633         -73.979073   \n",
              "259178        -73.972656        40.764042         -74.013176   \n",
              "365838        -73.991982        40.749767         -73.989845   \n",
              "131932        -73.969055        40.761398         -73.990814   \n",
              "121958        -73.983040        40.742142         -74.002510   \n",
              "\n",
              "        dropoff_latitude  passenger_count  \n",
              "353352         40.742352                4  \n",
              "360070         40.724579                1  \n",
              "372609         40.761230                1  \n",
              "550895         40.772602                1  \n",
              "444151         40.750404                2  \n",
              "...                  ...              ...  \n",
              "110268         40.763168                1  \n",
              "259178         40.707840                2  \n",
              "365838         40.720551                3  \n",
              "131932         40.751328                1  \n",
              "121958         40.727650                1  \n",
              "\n",
              "[441960 rows x 5 columns]"
            ],
            "text/html": [
              "\n",
              "  <div id=\"df-dbcb1320-85ec-4076-be7d-db05665d0adb\">\n",
              "    <div class=\"colab-df-container\">\n",
              "      <div>\n",
              "<style scoped>\n",
              "    .dataframe tbody tr th:only-of-type {\n",
              "        vertical-align: middle;\n",
              "    }\n",
              "\n",
              "    .dataframe tbody tr th {\n",
              "        vertical-align: top;\n",
              "    }\n",
              "\n",
              "    .dataframe thead th {\n",
              "        text-align: right;\n",
              "    }\n",
              "</style>\n",
              "<table border=\"1\" class=\"dataframe\">\n",
              "  <thead>\n",
              "    <tr style=\"text-align: right;\">\n",
              "      <th></th>\n",
              "      <th>pickup_longitude</th>\n",
              "      <th>pickup_latitude</th>\n",
              "      <th>dropoff_longitude</th>\n",
              "      <th>dropoff_latitude</th>\n",
              "      <th>passenger_count</th>\n",
              "    </tr>\n",
              "  </thead>\n",
              "  <tbody>\n",
              "    <tr>\n",
              "      <th>353352</th>\n",
              "      <td>-73.993652</td>\n",
              "      <td>40.741543</td>\n",
              "      <td>-73.977974</td>\n",
              "      <td>40.742352</td>\n",
              "      <td>4</td>\n",
              "    </tr>\n",
              "    <tr>\n",
              "      <th>360070</th>\n",
              "      <td>-73.993805</td>\n",
              "      <td>40.724579</td>\n",
              "      <td>-73.993805</td>\n",
              "      <td>40.724579</td>\n",
              "      <td>1</td>\n",
              "    </tr>\n",
              "    <tr>\n",
              "      <th>372609</th>\n",
              "      <td>-73.959160</td>\n",
              "      <td>40.780750</td>\n",
              "      <td>-73.969116</td>\n",
              "      <td>40.761230</td>\n",
              "      <td>1</td>\n",
              "    </tr>\n",
              "    <tr>\n",
              "      <th>550895</th>\n",
              "      <td>-73.952187</td>\n",
              "      <td>40.783951</td>\n",
              "      <td>-73.978645</td>\n",
              "      <td>40.772602</td>\n",
              "      <td>1</td>\n",
              "    </tr>\n",
              "    <tr>\n",
              "      <th>444151</th>\n",
              "      <td>-73.977112</td>\n",
              "      <td>40.746834</td>\n",
              "      <td>-73.991104</td>\n",
              "      <td>40.750404</td>\n",
              "      <td>2</td>\n",
              "    </tr>\n",
              "    <tr>\n",
              "      <th>...</th>\n",
              "      <td>...</td>\n",
              "      <td>...</td>\n",
              "      <td>...</td>\n",
              "      <td>...</td>\n",
              "      <td>...</td>\n",
              "    </tr>\n",
              "    <tr>\n",
              "      <th>110268</th>\n",
              "      <td>-73.987152</td>\n",
              "      <td>40.750633</td>\n",
              "      <td>-73.979073</td>\n",
              "      <td>40.763168</td>\n",
              "      <td>1</td>\n",
              "    </tr>\n",
              "    <tr>\n",
              "      <th>259178</th>\n",
              "      <td>-73.972656</td>\n",
              "      <td>40.764042</td>\n",
              "      <td>-74.013176</td>\n",
              "      <td>40.707840</td>\n",
              "      <td>2</td>\n",
              "    </tr>\n",
              "    <tr>\n",
              "      <th>365838</th>\n",
              "      <td>-73.991982</td>\n",
              "      <td>40.749767</td>\n",
              "      <td>-73.989845</td>\n",
              "      <td>40.720551</td>\n",
              "      <td>3</td>\n",
              "    </tr>\n",
              "    <tr>\n",
              "      <th>131932</th>\n",
              "      <td>-73.969055</td>\n",
              "      <td>40.761398</td>\n",
              "      <td>-73.990814</td>\n",
              "      <td>40.751328</td>\n",
              "      <td>1</td>\n",
              "    </tr>\n",
              "    <tr>\n",
              "      <th>121958</th>\n",
              "      <td>-73.983040</td>\n",
              "      <td>40.742142</td>\n",
              "      <td>-74.002510</td>\n",
              "      <td>40.727650</td>\n",
              "      <td>1</td>\n",
              "    </tr>\n",
              "  </tbody>\n",
              "</table>\n",
              "<p>441960 rows × 5 columns</p>\n",
              "</div>\n",
              "      <button class=\"colab-df-convert\" onclick=\"convertToInteractive('df-dbcb1320-85ec-4076-be7d-db05665d0adb')\"\n",
              "              title=\"Convert this dataframe to an interactive table.\"\n",
              "              style=\"display:none;\">\n",
              "        \n",
              "  <svg xmlns=\"http://www.w3.org/2000/svg\" height=\"24px\"viewBox=\"0 0 24 24\"\n",
              "       width=\"24px\">\n",
              "    <path d=\"M0 0h24v24H0V0z\" fill=\"none\"/>\n",
              "    <path d=\"M18.56 5.44l.94 2.06.94-2.06 2.06-.94-2.06-.94-.94-2.06-.94 2.06-2.06.94zm-11 1L8.5 8.5l.94-2.06 2.06-.94-2.06-.94L8.5 2.5l-.94 2.06-2.06.94zm10 10l.94 2.06.94-2.06 2.06-.94-2.06-.94-.94-2.06-.94 2.06-2.06.94z\"/><path d=\"M17.41 7.96l-1.37-1.37c-.4-.4-.92-.59-1.43-.59-.52 0-1.04.2-1.43.59L10.3 9.45l-7.72 7.72c-.78.78-.78 2.05 0 2.83L4 21.41c.39.39.9.59 1.41.59.51 0 1.02-.2 1.41-.59l7.78-7.78 2.81-2.81c.8-.78.8-2.07 0-2.86zM5.41 20L4 18.59l7.72-7.72 1.47 1.35L5.41 20z\"/>\n",
              "  </svg>\n",
              "      </button>\n",
              "      \n",
              "  <style>\n",
              "    .colab-df-container {\n",
              "      display:flex;\n",
              "      flex-wrap:wrap;\n",
              "      gap: 12px;\n",
              "    }\n",
              "\n",
              "    .colab-df-convert {\n",
              "      background-color: #E8F0FE;\n",
              "      border: none;\n",
              "      border-radius: 50%;\n",
              "      cursor: pointer;\n",
              "      display: none;\n",
              "      fill: #1967D2;\n",
              "      height: 32px;\n",
              "      padding: 0 0 0 0;\n",
              "      width: 32px;\n",
              "    }\n",
              "\n",
              "    .colab-df-convert:hover {\n",
              "      background-color: #E2EBFA;\n",
              "      box-shadow: 0px 1px 2px rgba(60, 64, 67, 0.3), 0px 1px 3px 1px rgba(60, 64, 67, 0.15);\n",
              "      fill: #174EA6;\n",
              "    }\n",
              "\n",
              "    [theme=dark] .colab-df-convert {\n",
              "      background-color: #3B4455;\n",
              "      fill: #D2E3FC;\n",
              "    }\n",
              "\n",
              "    [theme=dark] .colab-df-convert:hover {\n",
              "      background-color: #434B5C;\n",
              "      box-shadow: 0px 1px 3px 1px rgba(0, 0, 0, 0.15);\n",
              "      filter: drop-shadow(0px 1px 2px rgba(0, 0, 0, 0.3));\n",
              "      fill: #FFFFFF;\n",
              "    }\n",
              "  </style>\n",
              "\n",
              "      <script>\n",
              "        const buttonEl =\n",
              "          document.querySelector('#df-dbcb1320-85ec-4076-be7d-db05665d0adb button.colab-df-convert');\n",
              "        buttonEl.style.display =\n",
              "          google.colab.kernel.accessAllowed ? 'block' : 'none';\n",
              "\n",
              "        async function convertToInteractive(key) {\n",
              "          const element = document.querySelector('#df-dbcb1320-85ec-4076-be7d-db05665d0adb');\n",
              "          const dataTable =\n",
              "            await google.colab.kernel.invokeFunction('convertToInteractive',\n",
              "                                                     [key], {});\n",
              "          if (!dataTable) return;\n",
              "\n",
              "          const docLinkHtml = 'Like what you see? Visit the ' +\n",
              "            '<a target=\"_blank\" href=https://colab.research.google.com/notebooks/data_table.ipynb>data table notebook</a>'\n",
              "            + ' to learn more about interactive tables.';\n",
              "          element.innerHTML = '';\n",
              "          dataTable['output_type'] = 'display_data';\n",
              "          await google.colab.output.renderOutput(dataTable, element);\n",
              "          const docLink = document.createElement('div');\n",
              "          docLink.innerHTML = docLinkHtml;\n",
              "          element.appendChild(docLink);\n",
              "        }\n",
              "      </script>\n",
              "    </div>\n",
              "  </div>\n",
              "  "
            ]
          },
          "metadata": {},
          "execution_count": 35
        }
      ],
      "source": [
        "train_inputs"
      ]
    },
    {
      "cell_type": "code",
      "execution_count": 36,
      "metadata": {
        "colab": {
          "base_uri": "https://localhost:8080/"
        },
        "id": "7b-cmS3Go_zG",
        "outputId": "bcd33d9b-1fd8-4f9d-ad95-8fc4106b244c"
      },
      "outputs": [
        {
          "output_type": "execute_result",
          "data": {
            "text/plain": [
              "353352     6.0\n",
              "360070     3.7\n",
              "372609    10.0\n",
              "550895     8.9\n",
              "444151     7.3\n",
              "          ... \n",
              "110268     9.3\n",
              "259178    18.5\n",
              "365838    10.1\n",
              "131932    10.9\n",
              "121958     9.5\n",
              "Name: fare_amount, Length: 441960, dtype: float32"
            ]
          },
          "metadata": {},
          "execution_count": 36
        }
      ],
      "source": [
        "train_targets"
      ]
    },
    {
      "cell_type": "code",
      "execution_count": 37,
      "metadata": {
        "id": "2kqJs1J5pHvc"
      },
      "outputs": [],
      "source": [
        "val_inputs=val_df[input_cols]"
      ]
    },
    {
      "cell_type": "code",
      "execution_count": 38,
      "metadata": {
        "id": "kXb6-KcJtj0X"
      },
      "outputs": [],
      "source": [
        "val_targets=val_df[target_col]"
      ]
    },
    {
      "cell_type": "code",
      "execution_count": 39,
      "metadata": {
        "colab": {
          "base_uri": "https://localhost:8080/"
        },
        "id": "yYa_sRK9tqMT",
        "outputId": "49ae36eb-dce3-4758-d985-c198893fe983"
      },
      "outputs": [
        {
          "output_type": "execute_result",
          "data": {
            "text/plain": [
              "15971     14.000000\n",
              "149839     6.500000\n",
              "515867    49.570000\n",
              "90307     49.700001\n",
              "287032     8.500000\n",
              "            ...    \n",
              "467556     6.100000\n",
              "19482      7.300000\n",
              "186063     4.500000\n",
              "382260    32.900002\n",
              "18838     11.500000\n",
              "Name: fare_amount, Length: 110490, dtype: float32"
            ]
          },
          "metadata": {},
          "execution_count": 39
        }
      ],
      "source": [
        "val_targets"
      ]
    },
    {
      "cell_type": "code",
      "execution_count": 40,
      "metadata": {
        "colab": {
          "base_uri": "https://localhost:8080/",
          "height": 424
        },
        "id": "HS6mX8Matsx7",
        "outputId": "3ec42ed3-a38a-41de-cfa3-c531e6eeed3e"
      },
      "outputs": [
        {
          "output_type": "execute_result",
          "data": {
            "text/plain": [
              "        pickup_longitude  pickup_latitude  dropoff_longitude  \\\n",
              "15971         -73.995834        40.759190         -73.973679   \n",
              "149839        -73.977386        40.738335         -73.976143   \n",
              "515867        -73.983910        40.749470         -73.787170   \n",
              "90307         -73.790794        40.643463         -73.972252   \n",
              "287032        -73.976593        40.761944         -73.991463   \n",
              "...                  ...              ...                ...   \n",
              "467556        -73.968567        40.761238         -73.983406   \n",
              "19482         -73.986725        40.755920         -73.985855   \n",
              "186063          0.000000         0.000000           0.000000   \n",
              "382260        -73.980057        40.760334         -73.872589   \n",
              "18838         -73.955406        40.782417         -73.960434   \n",
              "\n",
              "        dropoff_latitude  passenger_count  \n",
              "15971          40.739086                1  \n",
              "149839         40.751205                1  \n",
              "515867         40.646645                1  \n",
              "90307          40.690182                1  \n",
              "287032         40.750309                2  \n",
              "...                  ...              ...  \n",
              "467556         40.750019                3  \n",
              "19482          40.731171                1  \n",
              "186063          0.000000                1  \n",
              "382260         40.774300                1  \n",
              "18838          40.767666                1  \n",
              "\n",
              "[110490 rows x 5 columns]"
            ],
            "text/html": [
              "\n",
              "  <div id=\"df-00bb6415-51db-47a2-8641-cc0b2f2887be\">\n",
              "    <div class=\"colab-df-container\">\n",
              "      <div>\n",
              "<style scoped>\n",
              "    .dataframe tbody tr th:only-of-type {\n",
              "        vertical-align: middle;\n",
              "    }\n",
              "\n",
              "    .dataframe tbody tr th {\n",
              "        vertical-align: top;\n",
              "    }\n",
              "\n",
              "    .dataframe thead th {\n",
              "        text-align: right;\n",
              "    }\n",
              "</style>\n",
              "<table border=\"1\" class=\"dataframe\">\n",
              "  <thead>\n",
              "    <tr style=\"text-align: right;\">\n",
              "      <th></th>\n",
              "      <th>pickup_longitude</th>\n",
              "      <th>pickup_latitude</th>\n",
              "      <th>dropoff_longitude</th>\n",
              "      <th>dropoff_latitude</th>\n",
              "      <th>passenger_count</th>\n",
              "    </tr>\n",
              "  </thead>\n",
              "  <tbody>\n",
              "    <tr>\n",
              "      <th>15971</th>\n",
              "      <td>-73.995834</td>\n",
              "      <td>40.759190</td>\n",
              "      <td>-73.973679</td>\n",
              "      <td>40.739086</td>\n",
              "      <td>1</td>\n",
              "    </tr>\n",
              "    <tr>\n",
              "      <th>149839</th>\n",
              "      <td>-73.977386</td>\n",
              "      <td>40.738335</td>\n",
              "      <td>-73.976143</td>\n",
              "      <td>40.751205</td>\n",
              "      <td>1</td>\n",
              "    </tr>\n",
              "    <tr>\n",
              "      <th>515867</th>\n",
              "      <td>-73.983910</td>\n",
              "      <td>40.749470</td>\n",
              "      <td>-73.787170</td>\n",
              "      <td>40.646645</td>\n",
              "      <td>1</td>\n",
              "    </tr>\n",
              "    <tr>\n",
              "      <th>90307</th>\n",
              "      <td>-73.790794</td>\n",
              "      <td>40.643463</td>\n",
              "      <td>-73.972252</td>\n",
              "      <td>40.690182</td>\n",
              "      <td>1</td>\n",
              "    </tr>\n",
              "    <tr>\n",
              "      <th>287032</th>\n",
              "      <td>-73.976593</td>\n",
              "      <td>40.761944</td>\n",
              "      <td>-73.991463</td>\n",
              "      <td>40.750309</td>\n",
              "      <td>2</td>\n",
              "    </tr>\n",
              "    <tr>\n",
              "      <th>...</th>\n",
              "      <td>...</td>\n",
              "      <td>...</td>\n",
              "      <td>...</td>\n",
              "      <td>...</td>\n",
              "      <td>...</td>\n",
              "    </tr>\n",
              "    <tr>\n",
              "      <th>467556</th>\n",
              "      <td>-73.968567</td>\n",
              "      <td>40.761238</td>\n",
              "      <td>-73.983406</td>\n",
              "      <td>40.750019</td>\n",
              "      <td>3</td>\n",
              "    </tr>\n",
              "    <tr>\n",
              "      <th>19482</th>\n",
              "      <td>-73.986725</td>\n",
              "      <td>40.755920</td>\n",
              "      <td>-73.985855</td>\n",
              "      <td>40.731171</td>\n",
              "      <td>1</td>\n",
              "    </tr>\n",
              "    <tr>\n",
              "      <th>186063</th>\n",
              "      <td>0.000000</td>\n",
              "      <td>0.000000</td>\n",
              "      <td>0.000000</td>\n",
              "      <td>0.000000</td>\n",
              "      <td>1</td>\n",
              "    </tr>\n",
              "    <tr>\n",
              "      <th>382260</th>\n",
              "      <td>-73.980057</td>\n",
              "      <td>40.760334</td>\n",
              "      <td>-73.872589</td>\n",
              "      <td>40.774300</td>\n",
              "      <td>1</td>\n",
              "    </tr>\n",
              "    <tr>\n",
              "      <th>18838</th>\n",
              "      <td>-73.955406</td>\n",
              "      <td>40.782417</td>\n",
              "      <td>-73.960434</td>\n",
              "      <td>40.767666</td>\n",
              "      <td>1</td>\n",
              "    </tr>\n",
              "  </tbody>\n",
              "</table>\n",
              "<p>110490 rows × 5 columns</p>\n",
              "</div>\n",
              "      <button class=\"colab-df-convert\" onclick=\"convertToInteractive('df-00bb6415-51db-47a2-8641-cc0b2f2887be')\"\n",
              "              title=\"Convert this dataframe to an interactive table.\"\n",
              "              style=\"display:none;\">\n",
              "        \n",
              "  <svg xmlns=\"http://www.w3.org/2000/svg\" height=\"24px\"viewBox=\"0 0 24 24\"\n",
              "       width=\"24px\">\n",
              "    <path d=\"M0 0h24v24H0V0z\" fill=\"none\"/>\n",
              "    <path d=\"M18.56 5.44l.94 2.06.94-2.06 2.06-.94-2.06-.94-.94-2.06-.94 2.06-2.06.94zm-11 1L8.5 8.5l.94-2.06 2.06-.94-2.06-.94L8.5 2.5l-.94 2.06-2.06.94zm10 10l.94 2.06.94-2.06 2.06-.94-2.06-.94-.94-2.06-.94 2.06-2.06.94z\"/><path d=\"M17.41 7.96l-1.37-1.37c-.4-.4-.92-.59-1.43-.59-.52 0-1.04.2-1.43.59L10.3 9.45l-7.72 7.72c-.78.78-.78 2.05 0 2.83L4 21.41c.39.39.9.59 1.41.59.51 0 1.02-.2 1.41-.59l7.78-7.78 2.81-2.81c.8-.78.8-2.07 0-2.86zM5.41 20L4 18.59l7.72-7.72 1.47 1.35L5.41 20z\"/>\n",
              "  </svg>\n",
              "      </button>\n",
              "      \n",
              "  <style>\n",
              "    .colab-df-container {\n",
              "      display:flex;\n",
              "      flex-wrap:wrap;\n",
              "      gap: 12px;\n",
              "    }\n",
              "\n",
              "    .colab-df-convert {\n",
              "      background-color: #E8F0FE;\n",
              "      border: none;\n",
              "      border-radius: 50%;\n",
              "      cursor: pointer;\n",
              "      display: none;\n",
              "      fill: #1967D2;\n",
              "      height: 32px;\n",
              "      padding: 0 0 0 0;\n",
              "      width: 32px;\n",
              "    }\n",
              "\n",
              "    .colab-df-convert:hover {\n",
              "      background-color: #E2EBFA;\n",
              "      box-shadow: 0px 1px 2px rgba(60, 64, 67, 0.3), 0px 1px 3px 1px rgba(60, 64, 67, 0.15);\n",
              "      fill: #174EA6;\n",
              "    }\n",
              "\n",
              "    [theme=dark] .colab-df-convert {\n",
              "      background-color: #3B4455;\n",
              "      fill: #D2E3FC;\n",
              "    }\n",
              "\n",
              "    [theme=dark] .colab-df-convert:hover {\n",
              "      background-color: #434B5C;\n",
              "      box-shadow: 0px 1px 3px 1px rgba(0, 0, 0, 0.15);\n",
              "      filter: drop-shadow(0px 1px 2px rgba(0, 0, 0, 0.3));\n",
              "      fill: #FFFFFF;\n",
              "    }\n",
              "  </style>\n",
              "\n",
              "      <script>\n",
              "        const buttonEl =\n",
              "          document.querySelector('#df-00bb6415-51db-47a2-8641-cc0b2f2887be button.colab-df-convert');\n",
              "        buttonEl.style.display =\n",
              "          google.colab.kernel.accessAllowed ? 'block' : 'none';\n",
              "\n",
              "        async function convertToInteractive(key) {\n",
              "          const element = document.querySelector('#df-00bb6415-51db-47a2-8641-cc0b2f2887be');\n",
              "          const dataTable =\n",
              "            await google.colab.kernel.invokeFunction('convertToInteractive',\n",
              "                                                     [key], {});\n",
              "          if (!dataTable) return;\n",
              "\n",
              "          const docLinkHtml = 'Like what you see? Visit the ' +\n",
              "            '<a target=\"_blank\" href=https://colab.research.google.com/notebooks/data_table.ipynb>data table notebook</a>'\n",
              "            + ' to learn more about interactive tables.';\n",
              "          element.innerHTML = '';\n",
              "          dataTable['output_type'] = 'display_data';\n",
              "          await google.colab.output.renderOutput(dataTable, element);\n",
              "          const docLink = document.createElement('div');\n",
              "          docLink.innerHTML = docLinkHtml;\n",
              "          element.appendChild(docLink);\n",
              "        }\n",
              "      </script>\n",
              "    </div>\n",
              "  </div>\n",
              "  "
            ]
          },
          "metadata": {},
          "execution_count": 40
        }
      ],
      "source": [
        "val_inputs"
      ]
    },
    {
      "cell_type": "code",
      "execution_count": 41,
      "metadata": {
        "id": "NUHfpw9Ntv53"
      },
      "outputs": [],
      "source": [
        "test_inputs=test_df[input_cols]"
      ]
    },
    {
      "cell_type": "markdown",
      "metadata": {
        "id": "e8pxugd7uqUs"
      },
      "source": [
        "Here we are making a basic model that always predicts the average"
      ]
    },
    {
      "cell_type": "code",
      "execution_count": 42,
      "metadata": {
        "id": "BkQzsXWvvLQI"
      },
      "outputs": [],
      "source": [
        "import numpy as np"
      ]
    },
    {
      "cell_type": "code",
      "execution_count": 43,
      "metadata": {
        "id": "4-Jm8d6Qt466"
      },
      "outputs": [],
      "source": [
        "class MeanRegressor:\n",
        "  def fit(self,inputs,targets):\n",
        "    self.mean=targets.mean()\n",
        "\n",
        "  def predict(self,inputs):\n",
        "    return  np.full(inputs.shape[0],self.mean)"
      ]
    },
    {
      "cell_type": "code",
      "execution_count": 44,
      "metadata": {
        "id": "1yKsTcx0vX8y"
      },
      "outputs": [],
      "source": [
        "mean_model=MeanRegressor()"
      ]
    },
    {
      "cell_type": "code",
      "execution_count": 45,
      "metadata": {
        "id": "fUmlFy2xvbTD"
      },
      "outputs": [],
      "source": [
        "mean_model.fit(train_inputs,train_targets)"
      ]
    },
    {
      "cell_type": "code",
      "execution_count": 46,
      "metadata": {
        "colab": {
          "base_uri": "https://localhost:8080/"
        },
        "id": "llX8tJSdvptf",
        "outputId": "bc4fd14c-2bad-4579-cc8d-65324017142d"
      },
      "outputs": [
        {
          "output_type": "execute_result",
          "data": {
            "text/plain": [
              "11.354714"
            ]
          },
          "metadata": {},
          "execution_count": 46
        }
      ],
      "source": [
        "mean_model.mean"
      ]
    },
    {
      "cell_type": "code",
      "execution_count": 47,
      "metadata": {
        "id": "12WjF-GcwjtT"
      },
      "outputs": [],
      "source": [
        "train_preds=mean_model.predict(train_inputs)"
      ]
    },
    {
      "cell_type": "code",
      "execution_count": 48,
      "metadata": {
        "colab": {
          "base_uri": "https://localhost:8080/"
        },
        "id": "MhK-yDaaxNGg",
        "outputId": "0f3256d1-78b9-4f53-e1a3-9c1941723de2"
      },
      "outputs": [
        {
          "output_type": "execute_result",
          "data": {
            "text/plain": [
              "array([11.354714, 11.354714, 11.354714, ..., 11.354714, 11.354714,\n",
              "       11.354714], dtype=float32)"
            ]
          },
          "metadata": {},
          "execution_count": 48
        }
      ],
      "source": [
        "train_preds"
      ]
    },
    {
      "cell_type": "code",
      "execution_count": 49,
      "metadata": {
        "id": "2fD3469rxtC1"
      },
      "outputs": [],
      "source": [
        "val_preds=mean_model.predict(val_inputs)"
      ]
    },
    {
      "cell_type": "code",
      "execution_count": 50,
      "metadata": {
        "colab": {
          "base_uri": "https://localhost:8080/"
        },
        "id": "IUoZSoRvx31s",
        "outputId": "b9235090-4aad-4853-d8db-4dc5d0eb3250"
      },
      "outputs": [
        {
          "output_type": "execute_result",
          "data": {
            "text/plain": [
              "array([11.354714, 11.354714, 11.354714, ..., 11.354714, 11.354714,\n",
              "       11.354714], dtype=float32)"
            ]
          },
          "metadata": {},
          "execution_count": 50
        }
      ],
      "source": [
        "val_preds"
      ]
    },
    {
      "cell_type": "code",
      "execution_count": 51,
      "metadata": {
        "id": "tNWSDq27x9XF"
      },
      "outputs": [],
      "source": [
        "from sklearn.metrics import mean_squared_error"
      ]
    },
    {
      "cell_type": "code",
      "execution_count": 52,
      "metadata": {
        "id": "VJ6oQU4UyQN-"
      },
      "outputs": [],
      "source": [
        "def rmse(targets,preds):\n",
        "  return mean_squared_error(targets,preds,squared=False)"
      ]
    },
    {
      "cell_type": "code",
      "execution_count": 53,
      "metadata": {
        "colab": {
          "base_uri": "https://localhost:8080/"
        },
        "id": "UrTPskonydU5",
        "outputId": "7fd14720-a205-4295-cb26-2e9f8a6054cc"
      },
      "outputs": [
        {
          "output_type": "execute_result",
          "data": {
            "text/plain": [
              "9.789782"
            ]
          },
          "metadata": {},
          "execution_count": 53
        }
      ],
      "source": [
        "train_rmse=rmse(train_targets,train_preds)\n",
        "train_rmse"
      ]
    },
    {
      "cell_type": "code",
      "execution_count": 54,
      "metadata": {
        "colab": {
          "base_uri": "https://localhost:8080/"
        },
        "id": "vKcPTEYszA1a",
        "outputId": "05e0cf1c-bbcc-4fe8-d847-9926e84ecca6"
      },
      "outputs": [
        {
          "output_type": "execute_result",
          "data": {
            "text/plain": [
              "9.899954"
            ]
          },
          "metadata": {},
          "execution_count": 54
        }
      ],
      "source": [
        "val_rmse=rmse(val_targets,val_preds)\n",
        "val_rmse"
      ]
    },
    {
      "cell_type": "markdown",
      "metadata": {
        "id": "_0F5HUqKzjaV"
      },
      "source": [
        "Training and evaluating Baseline model to check with linear regression"
      ]
    },
    {
      "cell_type": "code",
      "execution_count": 55,
      "metadata": {
        "id": "Dhk_-ABkzi7Y"
      },
      "outputs": [],
      "source": [
        "from sklearn.linear_model import LinearRegression"
      ]
    },
    {
      "cell_type": "code",
      "execution_count": 56,
      "metadata": {
        "id": "GV72Knewzaz9"
      },
      "outputs": [],
      "source": [
        "linear_model=LinearRegression()"
      ]
    },
    {
      "cell_type": "code",
      "execution_count": 57,
      "metadata": {
        "colab": {
          "base_uri": "https://localhost:8080/"
        },
        "id": "gpX0-dvE0DI8",
        "outputId": "c6a38e19-815f-485b-9fe0-c368a7f99ded"
      },
      "outputs": [
        {
          "output_type": "execute_result",
          "data": {
            "text/plain": [
              "LinearRegression()"
            ]
          },
          "metadata": {},
          "execution_count": 57
        }
      ],
      "source": [
        "linear_model.fit(train_inputs,train_targets)"
      ]
    },
    {
      "cell_type": "code",
      "execution_count": 58,
      "metadata": {
        "id": "wmFlR5tQAXVA"
      },
      "outputs": [],
      "source": [
        "train_preds=linear_model.predict(train_inputs)"
      ]
    },
    {
      "cell_type": "code",
      "execution_count": 59,
      "metadata": {
        "colab": {
          "base_uri": "https://localhost:8080/"
        },
        "id": "a0zXaSiwAub4",
        "outputId": "f7a24d68-4427-48e2-8c65-03e0319ec550"
      },
      "outputs": [
        {
          "output_type": "execute_result",
          "data": {
            "text/plain": [
              "array([11.546237, 11.28461 , 11.28414 , ..., 11.458918, 11.284281,\n",
              "       11.284448], dtype=float32)"
            ]
          },
          "metadata": {},
          "execution_count": 59
        }
      ],
      "source": [
        "train_preds"
      ]
    },
    {
      "cell_type": "code",
      "execution_count": 60,
      "metadata": {
        "colab": {
          "base_uri": "https://localhost:8080/"
        },
        "id": "eDn04ZydA9m2",
        "outputId": "04884f7a-7dc3-4c8a-a482-0273cff79b97"
      },
      "outputs": [
        {
          "output_type": "execute_result",
          "data": {
            "text/plain": [
              "353352     6.0\n",
              "360070     3.7\n",
              "372609    10.0\n",
              "550895     8.9\n",
              "444151     7.3\n",
              "          ... \n",
              "110268     9.3\n",
              "259178    18.5\n",
              "365838    10.1\n",
              "131932    10.9\n",
              "121958     9.5\n",
              "Name: fare_amount, Length: 441960, dtype: float32"
            ]
          },
          "metadata": {},
          "execution_count": 60
        }
      ],
      "source": [
        "train_targets"
      ]
    },
    {
      "cell_type": "code",
      "execution_count": 61,
      "metadata": {
        "colab": {
          "base_uri": "https://localhost:8080/"
        },
        "id": "tcy7_oI9BAju",
        "outputId": "213f45af-bc71-40ad-f37f-e71d3a9e14d0"
      },
      "outputs": [
        {
          "output_type": "execute_result",
          "data": {
            "text/plain": [
              "9.788632"
            ]
          },
          "metadata": {},
          "execution_count": 61
        }
      ],
      "source": [
        "rmse(train_targets,train_preds)"
      ]
    },
    {
      "cell_type": "code",
      "execution_count": 62,
      "metadata": {
        "id": "QDK2jJn4Bjjw"
      },
      "outputs": [],
      "source": [
        "val_preds=linear_model.predict(val_inputs)"
      ]
    },
    {
      "cell_type": "code",
      "execution_count": 63,
      "metadata": {
        "colab": {
          "base_uri": "https://localhost:8080/"
        },
        "id": "et--A0-sCBmM",
        "outputId": "007a15fe-cb12-4634-99d3-7db1315a0a14"
      },
      "outputs": [
        {
          "output_type": "execute_result",
          "data": {
            "text/plain": [
              "array([11.284328 , 11.284496 , 11.2847805, ..., 11.8045   , 11.284433 ,\n",
              "       11.284133 ], dtype=float32)"
            ]
          },
          "metadata": {},
          "execution_count": 63
        }
      ],
      "source": [
        "val_preds"
      ]
    },
    {
      "cell_type": "code",
      "execution_count": 64,
      "metadata": {
        "colab": {
          "base_uri": "https://localhost:8080/"
        },
        "id": "loyfjcf_CEcu",
        "outputId": "917e0b39-c732-4b53-e6d7-58182964f7ad"
      },
      "outputs": [
        {
          "output_type": "execute_result",
          "data": {
            "text/plain": [
              "15971     14.000000\n",
              "149839     6.500000\n",
              "515867    49.570000\n",
              "90307     49.700001\n",
              "287032     8.500000\n",
              "            ...    \n",
              "467556     6.100000\n",
              "19482      7.300000\n",
              "186063     4.500000\n",
              "382260    32.900002\n",
              "18838     11.500000\n",
              "Name: fare_amount, Length: 110490, dtype: float32"
            ]
          },
          "metadata": {},
          "execution_count": 64
        }
      ],
      "source": [
        "val_targets\n"
      ]
    },
    {
      "cell_type": "code",
      "execution_count": 65,
      "metadata": {
        "colab": {
          "base_uri": "https://localhost:8080/"
        },
        "id": "bCZYirLMCIQh",
        "outputId": "7c66a10b-3702-4bde-e9d9-075e3e2c38f7"
      },
      "outputs": [
        {
          "output_type": "execute_result",
          "data": {
            "text/plain": [
              "9.898088"
            ]
          },
          "metadata": {},
          "execution_count": 65
        }
      ],
      "source": [
        "rmse(val_targets,val_preds)"
      ]
    },
    {
      "cell_type": "markdown",
      "metadata": {
        "id": "5FkHluOdCZLD"
      },
      "source": [
        "Linear regression here is completely useless because the lang and lons were also included in the data"
      ]
    },
    {
      "cell_type": "markdown",
      "metadata": {
        "id": "XcUXBev2Dicg"
      },
      "source": [
        "#Make predictions and Code for submitting to kaggle competition\n"
      ]
    },
    {
      "cell_type": "code",
      "execution_count": 66,
      "metadata": {
        "colab": {
          "base_uri": "https://localhost:8080/",
          "height": 424
        },
        "id": "JTimwNL3CPR8",
        "outputId": "0003ca77-472d-4958-ea2c-0a5a74fd6eb5"
      },
      "outputs": [
        {
          "output_type": "execute_result",
          "data": {
            "text/plain": [
              "      pickup_longitude  pickup_latitude  dropoff_longitude  dropoff_latitude  \\\n",
              "0           -73.973320        40.763805         -73.981430         40.743835   \n",
              "1           -73.986862        40.719383         -73.998886         40.739201   \n",
              "2           -73.982521        40.751259         -73.979652         40.746140   \n",
              "3           -73.981163        40.767807         -73.990448         40.751637   \n",
              "4           -73.966049        40.789776         -73.988564         40.744427   \n",
              "...                ...              ...                ...               ...   \n",
              "9909        -73.968124        40.796997         -73.955643         40.780388   \n",
              "9910        -73.945511        40.803600         -73.960213         40.776371   \n",
              "9911        -73.991600        40.726608         -73.789742         40.647011   \n",
              "9912        -73.985573        40.735432         -73.939178         40.801731   \n",
              "9913        -73.988022        40.754070         -74.000282         40.759220   \n",
              "\n",
              "      passenger_count  \n",
              "0                   1  \n",
              "1                   1  \n",
              "2                   1  \n",
              "3                   1  \n",
              "4                   1  \n",
              "...               ...  \n",
              "9909                6  \n",
              "9910                6  \n",
              "9911                6  \n",
              "9912                6  \n",
              "9913                6  \n",
              "\n",
              "[9914 rows x 5 columns]"
            ],
            "text/html": [
              "\n",
              "  <div id=\"df-193ab66f-db85-4188-9f14-7c19015def31\">\n",
              "    <div class=\"colab-df-container\">\n",
              "      <div>\n",
              "<style scoped>\n",
              "    .dataframe tbody tr th:only-of-type {\n",
              "        vertical-align: middle;\n",
              "    }\n",
              "\n",
              "    .dataframe tbody tr th {\n",
              "        vertical-align: top;\n",
              "    }\n",
              "\n",
              "    .dataframe thead th {\n",
              "        text-align: right;\n",
              "    }\n",
              "</style>\n",
              "<table border=\"1\" class=\"dataframe\">\n",
              "  <thead>\n",
              "    <tr style=\"text-align: right;\">\n",
              "      <th></th>\n",
              "      <th>pickup_longitude</th>\n",
              "      <th>pickup_latitude</th>\n",
              "      <th>dropoff_longitude</th>\n",
              "      <th>dropoff_latitude</th>\n",
              "      <th>passenger_count</th>\n",
              "    </tr>\n",
              "  </thead>\n",
              "  <tbody>\n",
              "    <tr>\n",
              "      <th>0</th>\n",
              "      <td>-73.973320</td>\n",
              "      <td>40.763805</td>\n",
              "      <td>-73.981430</td>\n",
              "      <td>40.743835</td>\n",
              "      <td>1</td>\n",
              "    </tr>\n",
              "    <tr>\n",
              "      <th>1</th>\n",
              "      <td>-73.986862</td>\n",
              "      <td>40.719383</td>\n",
              "      <td>-73.998886</td>\n",
              "      <td>40.739201</td>\n",
              "      <td>1</td>\n",
              "    </tr>\n",
              "    <tr>\n",
              "      <th>2</th>\n",
              "      <td>-73.982521</td>\n",
              "      <td>40.751259</td>\n",
              "      <td>-73.979652</td>\n",
              "      <td>40.746140</td>\n",
              "      <td>1</td>\n",
              "    </tr>\n",
              "    <tr>\n",
              "      <th>3</th>\n",
              "      <td>-73.981163</td>\n",
              "      <td>40.767807</td>\n",
              "      <td>-73.990448</td>\n",
              "      <td>40.751637</td>\n",
              "      <td>1</td>\n",
              "    </tr>\n",
              "    <tr>\n",
              "      <th>4</th>\n",
              "      <td>-73.966049</td>\n",
              "      <td>40.789776</td>\n",
              "      <td>-73.988564</td>\n",
              "      <td>40.744427</td>\n",
              "      <td>1</td>\n",
              "    </tr>\n",
              "    <tr>\n",
              "      <th>...</th>\n",
              "      <td>...</td>\n",
              "      <td>...</td>\n",
              "      <td>...</td>\n",
              "      <td>...</td>\n",
              "      <td>...</td>\n",
              "    </tr>\n",
              "    <tr>\n",
              "      <th>9909</th>\n",
              "      <td>-73.968124</td>\n",
              "      <td>40.796997</td>\n",
              "      <td>-73.955643</td>\n",
              "      <td>40.780388</td>\n",
              "      <td>6</td>\n",
              "    </tr>\n",
              "    <tr>\n",
              "      <th>9910</th>\n",
              "      <td>-73.945511</td>\n",
              "      <td>40.803600</td>\n",
              "      <td>-73.960213</td>\n",
              "      <td>40.776371</td>\n",
              "      <td>6</td>\n",
              "    </tr>\n",
              "    <tr>\n",
              "      <th>9911</th>\n",
              "      <td>-73.991600</td>\n",
              "      <td>40.726608</td>\n",
              "      <td>-73.789742</td>\n",
              "      <td>40.647011</td>\n",
              "      <td>6</td>\n",
              "    </tr>\n",
              "    <tr>\n",
              "      <th>9912</th>\n",
              "      <td>-73.985573</td>\n",
              "      <td>40.735432</td>\n",
              "      <td>-73.939178</td>\n",
              "      <td>40.801731</td>\n",
              "      <td>6</td>\n",
              "    </tr>\n",
              "    <tr>\n",
              "      <th>9913</th>\n",
              "      <td>-73.988022</td>\n",
              "      <td>40.754070</td>\n",
              "      <td>-74.000282</td>\n",
              "      <td>40.759220</td>\n",
              "      <td>6</td>\n",
              "    </tr>\n",
              "  </tbody>\n",
              "</table>\n",
              "<p>9914 rows × 5 columns</p>\n",
              "</div>\n",
              "      <button class=\"colab-df-convert\" onclick=\"convertToInteractive('df-193ab66f-db85-4188-9f14-7c19015def31')\"\n",
              "              title=\"Convert this dataframe to an interactive table.\"\n",
              "              style=\"display:none;\">\n",
              "        \n",
              "  <svg xmlns=\"http://www.w3.org/2000/svg\" height=\"24px\"viewBox=\"0 0 24 24\"\n",
              "       width=\"24px\">\n",
              "    <path d=\"M0 0h24v24H0V0z\" fill=\"none\"/>\n",
              "    <path d=\"M18.56 5.44l.94 2.06.94-2.06 2.06-.94-2.06-.94-.94-2.06-.94 2.06-2.06.94zm-11 1L8.5 8.5l.94-2.06 2.06-.94-2.06-.94L8.5 2.5l-.94 2.06-2.06.94zm10 10l.94 2.06.94-2.06 2.06-.94-2.06-.94-.94-2.06-.94 2.06-2.06.94z\"/><path d=\"M17.41 7.96l-1.37-1.37c-.4-.4-.92-.59-1.43-.59-.52 0-1.04.2-1.43.59L10.3 9.45l-7.72 7.72c-.78.78-.78 2.05 0 2.83L4 21.41c.39.39.9.59 1.41.59.51 0 1.02-.2 1.41-.59l7.78-7.78 2.81-2.81c.8-.78.8-2.07 0-2.86zM5.41 20L4 18.59l7.72-7.72 1.47 1.35L5.41 20z\"/>\n",
              "  </svg>\n",
              "      </button>\n",
              "      \n",
              "  <style>\n",
              "    .colab-df-container {\n",
              "      display:flex;\n",
              "      flex-wrap:wrap;\n",
              "      gap: 12px;\n",
              "    }\n",
              "\n",
              "    .colab-df-convert {\n",
              "      background-color: #E8F0FE;\n",
              "      border: none;\n",
              "      border-radius: 50%;\n",
              "      cursor: pointer;\n",
              "      display: none;\n",
              "      fill: #1967D2;\n",
              "      height: 32px;\n",
              "      padding: 0 0 0 0;\n",
              "      width: 32px;\n",
              "    }\n",
              "\n",
              "    .colab-df-convert:hover {\n",
              "      background-color: #E2EBFA;\n",
              "      box-shadow: 0px 1px 2px rgba(60, 64, 67, 0.3), 0px 1px 3px 1px rgba(60, 64, 67, 0.15);\n",
              "      fill: #174EA6;\n",
              "    }\n",
              "\n",
              "    [theme=dark] .colab-df-convert {\n",
              "      background-color: #3B4455;\n",
              "      fill: #D2E3FC;\n",
              "    }\n",
              "\n",
              "    [theme=dark] .colab-df-convert:hover {\n",
              "      background-color: #434B5C;\n",
              "      box-shadow: 0px 1px 3px 1px rgba(0, 0, 0, 0.15);\n",
              "      filter: drop-shadow(0px 1px 2px rgba(0, 0, 0, 0.3));\n",
              "      fill: #FFFFFF;\n",
              "    }\n",
              "  </style>\n",
              "\n",
              "      <script>\n",
              "        const buttonEl =\n",
              "          document.querySelector('#df-193ab66f-db85-4188-9f14-7c19015def31 button.colab-df-convert');\n",
              "        buttonEl.style.display =\n",
              "          google.colab.kernel.accessAllowed ? 'block' : 'none';\n",
              "\n",
              "        async function convertToInteractive(key) {\n",
              "          const element = document.querySelector('#df-193ab66f-db85-4188-9f14-7c19015def31');\n",
              "          const dataTable =\n",
              "            await google.colab.kernel.invokeFunction('convertToInteractive',\n",
              "                                                     [key], {});\n",
              "          if (!dataTable) return;\n",
              "\n",
              "          const docLinkHtml = 'Like what you see? Visit the ' +\n",
              "            '<a target=\"_blank\" href=https://colab.research.google.com/notebooks/data_table.ipynb>data table notebook</a>'\n",
              "            + ' to learn more about interactive tables.';\n",
              "          element.innerHTML = '';\n",
              "          dataTable['output_type'] = 'display_data';\n",
              "          await google.colab.output.renderOutput(dataTable, element);\n",
              "          const docLink = document.createElement('div');\n",
              "          docLink.innerHTML = docLinkHtml;\n",
              "          element.appendChild(docLink);\n",
              "        }\n",
              "      </script>\n",
              "    </div>\n",
              "  </div>\n",
              "  "
            ]
          },
          "metadata": {},
          "execution_count": 66
        }
      ],
      "source": [
        "test_inputs"
      ]
    },
    {
      "cell_type": "code",
      "execution_count": 67,
      "metadata": {
        "id": "HNd525ObD3f8"
      },
      "outputs": [],
      "source": [
        "test_preds = linear_model.predict(test_inputs)"
      ]
    },
    {
      "cell_type": "code",
      "execution_count": 68,
      "metadata": {
        "id": "vUQka5KyEI5v"
      },
      "outputs": [],
      "source": [
        "sub_df = pd.read_csv(data_dir+'/sample_submission.csv')\n"
      ]
    },
    {
      "cell_type": "code",
      "execution_count": 69,
      "metadata": {
        "colab": {
          "base_uri": "https://localhost:8080/",
          "height": 424
        },
        "id": "Bp4i2JAmELcd",
        "outputId": "525378f4-84f3-47e0-ae4f-292969085140"
      },
      "outputs": [
        {
          "output_type": "execute_result",
          "data": {
            "text/plain": [
              "                              key  fare_amount\n",
              "0     2015-01-27 13:08:24.0000002        11.35\n",
              "1     2015-01-27 13:08:24.0000003        11.35\n",
              "2     2011-10-08 11:53:44.0000002        11.35\n",
              "3     2012-12-01 21:12:12.0000002        11.35\n",
              "4     2012-12-01 21:12:12.0000003        11.35\n",
              "...                           ...          ...\n",
              "9909  2015-05-10 12:37:51.0000002        11.35\n",
              "9910  2015-01-12 17:05:51.0000001        11.35\n",
              "9911  2015-04-19 20:44:15.0000001        11.35\n",
              "9912  2015-01-31 01:05:19.0000005        11.35\n",
              "9913  2015-01-18 14:06:23.0000006        11.35\n",
              "\n",
              "[9914 rows x 2 columns]"
            ],
            "text/html": [
              "\n",
              "  <div id=\"df-1ab3713f-4ff3-4cd8-87a4-18a2c72688e1\">\n",
              "    <div class=\"colab-df-container\">\n",
              "      <div>\n",
              "<style scoped>\n",
              "    .dataframe tbody tr th:only-of-type {\n",
              "        vertical-align: middle;\n",
              "    }\n",
              "\n",
              "    .dataframe tbody tr th {\n",
              "        vertical-align: top;\n",
              "    }\n",
              "\n",
              "    .dataframe thead th {\n",
              "        text-align: right;\n",
              "    }\n",
              "</style>\n",
              "<table border=\"1\" class=\"dataframe\">\n",
              "  <thead>\n",
              "    <tr style=\"text-align: right;\">\n",
              "      <th></th>\n",
              "      <th>key</th>\n",
              "      <th>fare_amount</th>\n",
              "    </tr>\n",
              "  </thead>\n",
              "  <tbody>\n",
              "    <tr>\n",
              "      <th>0</th>\n",
              "      <td>2015-01-27 13:08:24.0000002</td>\n",
              "      <td>11.35</td>\n",
              "    </tr>\n",
              "    <tr>\n",
              "      <th>1</th>\n",
              "      <td>2015-01-27 13:08:24.0000003</td>\n",
              "      <td>11.35</td>\n",
              "    </tr>\n",
              "    <tr>\n",
              "      <th>2</th>\n",
              "      <td>2011-10-08 11:53:44.0000002</td>\n",
              "      <td>11.35</td>\n",
              "    </tr>\n",
              "    <tr>\n",
              "      <th>3</th>\n",
              "      <td>2012-12-01 21:12:12.0000002</td>\n",
              "      <td>11.35</td>\n",
              "    </tr>\n",
              "    <tr>\n",
              "      <th>4</th>\n",
              "      <td>2012-12-01 21:12:12.0000003</td>\n",
              "      <td>11.35</td>\n",
              "    </tr>\n",
              "    <tr>\n",
              "      <th>...</th>\n",
              "      <td>...</td>\n",
              "      <td>...</td>\n",
              "    </tr>\n",
              "    <tr>\n",
              "      <th>9909</th>\n",
              "      <td>2015-05-10 12:37:51.0000002</td>\n",
              "      <td>11.35</td>\n",
              "    </tr>\n",
              "    <tr>\n",
              "      <th>9910</th>\n",
              "      <td>2015-01-12 17:05:51.0000001</td>\n",
              "      <td>11.35</td>\n",
              "    </tr>\n",
              "    <tr>\n",
              "      <th>9911</th>\n",
              "      <td>2015-04-19 20:44:15.0000001</td>\n",
              "      <td>11.35</td>\n",
              "    </tr>\n",
              "    <tr>\n",
              "      <th>9912</th>\n",
              "      <td>2015-01-31 01:05:19.0000005</td>\n",
              "      <td>11.35</td>\n",
              "    </tr>\n",
              "    <tr>\n",
              "      <th>9913</th>\n",
              "      <td>2015-01-18 14:06:23.0000006</td>\n",
              "      <td>11.35</td>\n",
              "    </tr>\n",
              "  </tbody>\n",
              "</table>\n",
              "<p>9914 rows × 2 columns</p>\n",
              "</div>\n",
              "      <button class=\"colab-df-convert\" onclick=\"convertToInteractive('df-1ab3713f-4ff3-4cd8-87a4-18a2c72688e1')\"\n",
              "              title=\"Convert this dataframe to an interactive table.\"\n",
              "              style=\"display:none;\">\n",
              "        \n",
              "  <svg xmlns=\"http://www.w3.org/2000/svg\" height=\"24px\"viewBox=\"0 0 24 24\"\n",
              "       width=\"24px\">\n",
              "    <path d=\"M0 0h24v24H0V0z\" fill=\"none\"/>\n",
              "    <path d=\"M18.56 5.44l.94 2.06.94-2.06 2.06-.94-2.06-.94-.94-2.06-.94 2.06-2.06.94zm-11 1L8.5 8.5l.94-2.06 2.06-.94-2.06-.94L8.5 2.5l-.94 2.06-2.06.94zm10 10l.94 2.06.94-2.06 2.06-.94-2.06-.94-.94-2.06-.94 2.06-2.06.94z\"/><path d=\"M17.41 7.96l-1.37-1.37c-.4-.4-.92-.59-1.43-.59-.52 0-1.04.2-1.43.59L10.3 9.45l-7.72 7.72c-.78.78-.78 2.05 0 2.83L4 21.41c.39.39.9.59 1.41.59.51 0 1.02-.2 1.41-.59l7.78-7.78 2.81-2.81c.8-.78.8-2.07 0-2.86zM5.41 20L4 18.59l7.72-7.72 1.47 1.35L5.41 20z\"/>\n",
              "  </svg>\n",
              "      </button>\n",
              "      \n",
              "  <style>\n",
              "    .colab-df-container {\n",
              "      display:flex;\n",
              "      flex-wrap:wrap;\n",
              "      gap: 12px;\n",
              "    }\n",
              "\n",
              "    .colab-df-convert {\n",
              "      background-color: #E8F0FE;\n",
              "      border: none;\n",
              "      border-radius: 50%;\n",
              "      cursor: pointer;\n",
              "      display: none;\n",
              "      fill: #1967D2;\n",
              "      height: 32px;\n",
              "      padding: 0 0 0 0;\n",
              "      width: 32px;\n",
              "    }\n",
              "\n",
              "    .colab-df-convert:hover {\n",
              "      background-color: #E2EBFA;\n",
              "      box-shadow: 0px 1px 2px rgba(60, 64, 67, 0.3), 0px 1px 3px 1px rgba(60, 64, 67, 0.15);\n",
              "      fill: #174EA6;\n",
              "    }\n",
              "\n",
              "    [theme=dark] .colab-df-convert {\n",
              "      background-color: #3B4455;\n",
              "      fill: #D2E3FC;\n",
              "    }\n",
              "\n",
              "    [theme=dark] .colab-df-convert:hover {\n",
              "      background-color: #434B5C;\n",
              "      box-shadow: 0px 1px 3px 1px rgba(0, 0, 0, 0.15);\n",
              "      filter: drop-shadow(0px 1px 2px rgba(0, 0, 0, 0.3));\n",
              "      fill: #FFFFFF;\n",
              "    }\n",
              "  </style>\n",
              "\n",
              "      <script>\n",
              "        const buttonEl =\n",
              "          document.querySelector('#df-1ab3713f-4ff3-4cd8-87a4-18a2c72688e1 button.colab-df-convert');\n",
              "        buttonEl.style.display =\n",
              "          google.colab.kernel.accessAllowed ? 'block' : 'none';\n",
              "\n",
              "        async function convertToInteractive(key) {\n",
              "          const element = document.querySelector('#df-1ab3713f-4ff3-4cd8-87a4-18a2c72688e1');\n",
              "          const dataTable =\n",
              "            await google.colab.kernel.invokeFunction('convertToInteractive',\n",
              "                                                     [key], {});\n",
              "          if (!dataTable) return;\n",
              "\n",
              "          const docLinkHtml = 'Like what you see? Visit the ' +\n",
              "            '<a target=\"_blank\" href=https://colab.research.google.com/notebooks/data_table.ipynb>data table notebook</a>'\n",
              "            + ' to learn more about interactive tables.';\n",
              "          element.innerHTML = '';\n",
              "          dataTable['output_type'] = 'display_data';\n",
              "          await google.colab.output.renderOutput(dataTable, element);\n",
              "          const docLink = document.createElement('div');\n",
              "          docLink.innerHTML = docLinkHtml;\n",
              "          element.appendChild(docLink);\n",
              "        }\n",
              "      </script>\n",
              "    </div>\n",
              "  </div>\n",
              "  "
            ]
          },
          "metadata": {},
          "execution_count": 69
        }
      ],
      "source": [
        "sub_df\n"
      ]
    },
    {
      "cell_type": "code",
      "execution_count": 70,
      "metadata": {
        "id": "G-XaPoOrENVf"
      },
      "outputs": [],
      "source": [
        "sub_df['fare_amount']=test_preds"
      ]
    },
    {
      "cell_type": "code",
      "execution_count": 71,
      "metadata": {
        "colab": {
          "base_uri": "https://localhost:8080/",
          "height": 424
        },
        "id": "8MK7Ju5bEzCB",
        "outputId": "7bd68f8c-5c80-4c16-ba12-b1c11827f2d8"
      },
      "outputs": [
        {
          "output_type": "execute_result",
          "data": {
            "text/plain": [
              "                              key  fare_amount\n",
              "0     2015-01-27 13:08:24.0000002    11.284280\n",
              "1     2015-01-27 13:08:24.0000003    11.284634\n",
              "2     2011-10-08 11:53:44.0000002    11.284384\n",
              "3     2012-12-01 21:12:12.0000002    11.284222\n",
              "4     2012-12-01 21:12:12.0000003    11.284050\n",
              "...                           ...          ...\n",
              "9909  2015-05-10 12:37:51.0000002    11.720277\n",
              "9910  2015-01-12 17:05:51.0000001    11.720225\n",
              "9911  2015-04-19 20:44:15.0000001    11.721249\n",
              "9912  2015-01-31 01:05:19.0000005    11.720798\n",
              "9913  2015-01-18 14:06:23.0000006    11.720594\n",
              "\n",
              "[9914 rows x 2 columns]"
            ],
            "text/html": [
              "\n",
              "  <div id=\"df-d518f2ec-effc-43f0-bc96-d11b82badebc\">\n",
              "    <div class=\"colab-df-container\">\n",
              "      <div>\n",
              "<style scoped>\n",
              "    .dataframe tbody tr th:only-of-type {\n",
              "        vertical-align: middle;\n",
              "    }\n",
              "\n",
              "    .dataframe tbody tr th {\n",
              "        vertical-align: top;\n",
              "    }\n",
              "\n",
              "    .dataframe thead th {\n",
              "        text-align: right;\n",
              "    }\n",
              "</style>\n",
              "<table border=\"1\" class=\"dataframe\">\n",
              "  <thead>\n",
              "    <tr style=\"text-align: right;\">\n",
              "      <th></th>\n",
              "      <th>key</th>\n",
              "      <th>fare_amount</th>\n",
              "    </tr>\n",
              "  </thead>\n",
              "  <tbody>\n",
              "    <tr>\n",
              "      <th>0</th>\n",
              "      <td>2015-01-27 13:08:24.0000002</td>\n",
              "      <td>11.284280</td>\n",
              "    </tr>\n",
              "    <tr>\n",
              "      <th>1</th>\n",
              "      <td>2015-01-27 13:08:24.0000003</td>\n",
              "      <td>11.284634</td>\n",
              "    </tr>\n",
              "    <tr>\n",
              "      <th>2</th>\n",
              "      <td>2011-10-08 11:53:44.0000002</td>\n",
              "      <td>11.284384</td>\n",
              "    </tr>\n",
              "    <tr>\n",
              "      <th>3</th>\n",
              "      <td>2012-12-01 21:12:12.0000002</td>\n",
              "      <td>11.284222</td>\n",
              "    </tr>\n",
              "    <tr>\n",
              "      <th>4</th>\n",
              "      <td>2012-12-01 21:12:12.0000003</td>\n",
              "      <td>11.284050</td>\n",
              "    </tr>\n",
              "    <tr>\n",
              "      <th>...</th>\n",
              "      <td>...</td>\n",
              "      <td>...</td>\n",
              "    </tr>\n",
              "    <tr>\n",
              "      <th>9909</th>\n",
              "      <td>2015-05-10 12:37:51.0000002</td>\n",
              "      <td>11.720277</td>\n",
              "    </tr>\n",
              "    <tr>\n",
              "      <th>9910</th>\n",
              "      <td>2015-01-12 17:05:51.0000001</td>\n",
              "      <td>11.720225</td>\n",
              "    </tr>\n",
              "    <tr>\n",
              "      <th>9911</th>\n",
              "      <td>2015-04-19 20:44:15.0000001</td>\n",
              "      <td>11.721249</td>\n",
              "    </tr>\n",
              "    <tr>\n",
              "      <th>9912</th>\n",
              "      <td>2015-01-31 01:05:19.0000005</td>\n",
              "      <td>11.720798</td>\n",
              "    </tr>\n",
              "    <tr>\n",
              "      <th>9913</th>\n",
              "      <td>2015-01-18 14:06:23.0000006</td>\n",
              "      <td>11.720594</td>\n",
              "    </tr>\n",
              "  </tbody>\n",
              "</table>\n",
              "<p>9914 rows × 2 columns</p>\n",
              "</div>\n",
              "      <button class=\"colab-df-convert\" onclick=\"convertToInteractive('df-d518f2ec-effc-43f0-bc96-d11b82badebc')\"\n",
              "              title=\"Convert this dataframe to an interactive table.\"\n",
              "              style=\"display:none;\">\n",
              "        \n",
              "  <svg xmlns=\"http://www.w3.org/2000/svg\" height=\"24px\"viewBox=\"0 0 24 24\"\n",
              "       width=\"24px\">\n",
              "    <path d=\"M0 0h24v24H0V0z\" fill=\"none\"/>\n",
              "    <path d=\"M18.56 5.44l.94 2.06.94-2.06 2.06-.94-2.06-.94-.94-2.06-.94 2.06-2.06.94zm-11 1L8.5 8.5l.94-2.06 2.06-.94-2.06-.94L8.5 2.5l-.94 2.06-2.06.94zm10 10l.94 2.06.94-2.06 2.06-.94-2.06-.94-.94-2.06-.94 2.06-2.06.94z\"/><path d=\"M17.41 7.96l-1.37-1.37c-.4-.4-.92-.59-1.43-.59-.52 0-1.04.2-1.43.59L10.3 9.45l-7.72 7.72c-.78.78-.78 2.05 0 2.83L4 21.41c.39.39.9.59 1.41.59.51 0 1.02-.2 1.41-.59l7.78-7.78 2.81-2.81c.8-.78.8-2.07 0-2.86zM5.41 20L4 18.59l7.72-7.72 1.47 1.35L5.41 20z\"/>\n",
              "  </svg>\n",
              "      </button>\n",
              "      \n",
              "  <style>\n",
              "    .colab-df-container {\n",
              "      display:flex;\n",
              "      flex-wrap:wrap;\n",
              "      gap: 12px;\n",
              "    }\n",
              "\n",
              "    .colab-df-convert {\n",
              "      background-color: #E8F0FE;\n",
              "      border: none;\n",
              "      border-radius: 50%;\n",
              "      cursor: pointer;\n",
              "      display: none;\n",
              "      fill: #1967D2;\n",
              "      height: 32px;\n",
              "      padding: 0 0 0 0;\n",
              "      width: 32px;\n",
              "    }\n",
              "\n",
              "    .colab-df-convert:hover {\n",
              "      background-color: #E2EBFA;\n",
              "      box-shadow: 0px 1px 2px rgba(60, 64, 67, 0.3), 0px 1px 3px 1px rgba(60, 64, 67, 0.15);\n",
              "      fill: #174EA6;\n",
              "    }\n",
              "\n",
              "    [theme=dark] .colab-df-convert {\n",
              "      background-color: #3B4455;\n",
              "      fill: #D2E3FC;\n",
              "    }\n",
              "\n",
              "    [theme=dark] .colab-df-convert:hover {\n",
              "      background-color: #434B5C;\n",
              "      box-shadow: 0px 1px 3px 1px rgba(0, 0, 0, 0.15);\n",
              "      filter: drop-shadow(0px 1px 2px rgba(0, 0, 0, 0.3));\n",
              "      fill: #FFFFFF;\n",
              "    }\n",
              "  </style>\n",
              "\n",
              "      <script>\n",
              "        const buttonEl =\n",
              "          document.querySelector('#df-d518f2ec-effc-43f0-bc96-d11b82badebc button.colab-df-convert');\n",
              "        buttonEl.style.display =\n",
              "          google.colab.kernel.accessAllowed ? 'block' : 'none';\n",
              "\n",
              "        async function convertToInteractive(key) {\n",
              "          const element = document.querySelector('#df-d518f2ec-effc-43f0-bc96-d11b82badebc');\n",
              "          const dataTable =\n",
              "            await google.colab.kernel.invokeFunction('convertToInteractive',\n",
              "                                                     [key], {});\n",
              "          if (!dataTable) return;\n",
              "\n",
              "          const docLinkHtml = 'Like what you see? Visit the ' +\n",
              "            '<a target=\"_blank\" href=https://colab.research.google.com/notebooks/data_table.ipynb>data table notebook</a>'\n",
              "            + ' to learn more about interactive tables.';\n",
              "          element.innerHTML = '';\n",
              "          dataTable['output_type'] = 'display_data';\n",
              "          await google.colab.output.renderOutput(dataTable, element);\n",
              "          const docLink = document.createElement('div');\n",
              "          docLink.innerHTML = docLinkHtml;\n",
              "          element.appendChild(docLink);\n",
              "        }\n",
              "      </script>\n",
              "    </div>\n",
              "  </div>\n",
              "  "
            ]
          },
          "metadata": {},
          "execution_count": 71
        }
      ],
      "source": [
        "sub_df"
      ]
    },
    {
      "cell_type": "code",
      "execution_count": 72,
      "metadata": {
        "id": "FXvSOfhkE4ZZ"
      },
      "outputs": [],
      "source": [
        "sub_df.to_csv('linear_model_submission.csv',index=None)"
      ]
    },
    {
      "cell_type": "markdown",
      "metadata": {
        "id": "Aj8gS4J4GwIW"
      },
      "source": [
        "Function to generate and submit for competitions"
      ]
    },
    {
      "cell_type": "code",
      "execution_count": 73,
      "metadata": {
        "id": "Vsk7oK94FNyJ"
      },
      "outputs": [],
      "source": [
        "def generate_submission(test_preds, fname):\n",
        "    sub_df = pd.read_csv(data_dir+'/sample_submission.csv')\n",
        "    sub_df['fare_amount'] = test_preds\n",
        "    sub_df.to_csv(fname, index=None)"
      ]
    },
    {
      "cell_type": "code",
      "execution_count": 74,
      "metadata": {
        "id": "2dk3vOTPGtah"
      },
      "outputs": [],
      "source": [
        "#generate_submission(test_preds, 'linreg_submission.csv')"
      ]
    },
    {
      "cell_type": "markdown",
      "metadata": {
        "id": "840-fhRRLJQO"
      },
      "source": [
        "###Feauture Engineering"
      ]
    },
    {
      "cell_type": "markdown",
      "metadata": {
        "id": "eM4pBrikL0oI"
      },
      "source": [
        "What is feature engineering: Creating new columns and see whether they help\n",
        "\n",
        "Extract parts of Date\n",
        "\n",
        "\n",
        "\n"
      ]
    },
    {
      "cell_type": "code",
      "execution_count": 75,
      "metadata": {
        "id": "RySJxjIjG3s8"
      },
      "outputs": [],
      "source": [
        "\n",
        "def add_dateparts(df, col):\n",
        "    df[col + '_year'] = df[col].dt.year\n",
        "    df[col + '_month'] = df[col].dt.month\n",
        "    df[col + '_day'] = df[col].dt.day\n",
        "    df[col + '_weekday'] = df[col].dt.weekday\n",
        "    df[col + '_hour'] = df[col].dt.hour"
      ]
    },
    {
      "cell_type": "code",
      "execution_count": 76,
      "metadata": {
        "id": "ll6GA8eENZ_U"
      },
      "outputs": [],
      "source": [
        "add_dateparts(train_df, 'pickup_datetime')"
      ]
    },
    {
      "cell_type": "code",
      "execution_count": 77,
      "metadata": {
        "id": "tmWQjUZsNb5R"
      },
      "outputs": [],
      "source": [
        "add_dateparts(val_df, 'pickup_datetime')\n"
      ]
    },
    {
      "cell_type": "code",
      "execution_count": 78,
      "metadata": {
        "id": "l70tLhZJNdsU"
      },
      "outputs": [],
      "source": [
        "add_dateparts(test_df, 'pickup_datetime')"
      ]
    },
    {
      "cell_type": "code",
      "execution_count": 79,
      "metadata": {
        "colab": {
          "base_uri": "https://localhost:8080/",
          "height": 661
        },
        "id": "wZfLZQdbOKTa",
        "outputId": "b97ad4e6-1962-4fd1-bde2-b6dbfad65640"
      },
      "outputs": [
        {
          "output_type": "execute_result",
          "data": {
            "text/plain": [
              "        fare_amount           pickup_datetime  pickup_longitude  \\\n",
              "353352          6.0 2015-04-12 03:40:38+00:00        -73.993652   \n",
              "360070          3.7 2011-01-26 19:21:00+00:00        -73.993805   \n",
              "372609         10.0 2012-10-03 10:40:17+00:00        -73.959160   \n",
              "550895          8.9 2012-03-14 13:44:27+00:00        -73.952187   \n",
              "444151          7.3 2012-02-05 15:33:00+00:00        -73.977112   \n",
              "...             ...                       ...               ...   \n",
              "110268          9.3 2009-09-06 16:12:00+00:00        -73.987152   \n",
              "259178         18.5 2009-04-12 09:58:56+00:00        -73.972656   \n",
              "365838         10.1 2012-07-12 19:30:00+00:00        -73.991982   \n",
              "131932         10.9 2011-02-17 18:33:00+00:00        -73.969055   \n",
              "121958          9.5 2015-01-14 17:35:03+00:00        -73.983040   \n",
              "\n",
              "        pickup_latitude  dropoff_longitude  dropoff_latitude  passenger_count  \\\n",
              "353352        40.741543         -73.977974         40.742352                4   \n",
              "360070        40.724579         -73.993805         40.724579                1   \n",
              "372609        40.780750         -73.969116         40.761230                1   \n",
              "550895        40.783951         -73.978645         40.772602                1   \n",
              "444151        40.746834         -73.991104         40.750404                2   \n",
              "...                 ...                ...               ...              ...   \n",
              "110268        40.750633         -73.979073         40.763168                1   \n",
              "259178        40.764042         -74.013176         40.707840                2   \n",
              "365838        40.749767         -73.989845         40.720551                3   \n",
              "131932        40.761398         -73.990814         40.751328                1   \n",
              "121958        40.742142         -74.002510         40.727650                1   \n",
              "\n",
              "        pickup_datetime_year  pickup_datetime_month  pickup_datetime_day  \\\n",
              "353352                  2015                      4                   12   \n",
              "360070                  2011                      1                   26   \n",
              "372609                  2012                     10                    3   \n",
              "550895                  2012                      3                   14   \n",
              "444151                  2012                      2                    5   \n",
              "...                      ...                    ...                  ...   \n",
              "110268                  2009                      9                    6   \n",
              "259178                  2009                      4                   12   \n",
              "365838                  2012                      7                   12   \n",
              "131932                  2011                      2                   17   \n",
              "121958                  2015                      1                   14   \n",
              "\n",
              "        pickup_datetime_weekday  pickup_datetime_hour  \n",
              "353352                        6                     3  \n",
              "360070                        2                    19  \n",
              "372609                        2                    10  \n",
              "550895                        2                    13  \n",
              "444151                        6                    15  \n",
              "...                         ...                   ...  \n",
              "110268                        6                    16  \n",
              "259178                        6                     9  \n",
              "365838                        3                    19  \n",
              "131932                        3                    18  \n",
              "121958                        2                    17  \n",
              "\n",
              "[441960 rows x 12 columns]"
            ],
            "text/html": [
              "\n",
              "  <div id=\"df-b7c6219e-4cf1-4c12-a812-e7b1322055eb\">\n",
              "    <div class=\"colab-df-container\">\n",
              "      <div>\n",
              "<style scoped>\n",
              "    .dataframe tbody tr th:only-of-type {\n",
              "        vertical-align: middle;\n",
              "    }\n",
              "\n",
              "    .dataframe tbody tr th {\n",
              "        vertical-align: top;\n",
              "    }\n",
              "\n",
              "    .dataframe thead th {\n",
              "        text-align: right;\n",
              "    }\n",
              "</style>\n",
              "<table border=\"1\" class=\"dataframe\">\n",
              "  <thead>\n",
              "    <tr style=\"text-align: right;\">\n",
              "      <th></th>\n",
              "      <th>fare_amount</th>\n",
              "      <th>pickup_datetime</th>\n",
              "      <th>pickup_longitude</th>\n",
              "      <th>pickup_latitude</th>\n",
              "      <th>dropoff_longitude</th>\n",
              "      <th>dropoff_latitude</th>\n",
              "      <th>passenger_count</th>\n",
              "      <th>pickup_datetime_year</th>\n",
              "      <th>pickup_datetime_month</th>\n",
              "      <th>pickup_datetime_day</th>\n",
              "      <th>pickup_datetime_weekday</th>\n",
              "      <th>pickup_datetime_hour</th>\n",
              "    </tr>\n",
              "  </thead>\n",
              "  <tbody>\n",
              "    <tr>\n",
              "      <th>353352</th>\n",
              "      <td>6.0</td>\n",
              "      <td>2015-04-12 03:40:38+00:00</td>\n",
              "      <td>-73.993652</td>\n",
              "      <td>40.741543</td>\n",
              "      <td>-73.977974</td>\n",
              "      <td>40.742352</td>\n",
              "      <td>4</td>\n",
              "      <td>2015</td>\n",
              "      <td>4</td>\n",
              "      <td>12</td>\n",
              "      <td>6</td>\n",
              "      <td>3</td>\n",
              "    </tr>\n",
              "    <tr>\n",
              "      <th>360070</th>\n",
              "      <td>3.7</td>\n",
              "      <td>2011-01-26 19:21:00+00:00</td>\n",
              "      <td>-73.993805</td>\n",
              "      <td>40.724579</td>\n",
              "      <td>-73.993805</td>\n",
              "      <td>40.724579</td>\n",
              "      <td>1</td>\n",
              "      <td>2011</td>\n",
              "      <td>1</td>\n",
              "      <td>26</td>\n",
              "      <td>2</td>\n",
              "      <td>19</td>\n",
              "    </tr>\n",
              "    <tr>\n",
              "      <th>372609</th>\n",
              "      <td>10.0</td>\n",
              "      <td>2012-10-03 10:40:17+00:00</td>\n",
              "      <td>-73.959160</td>\n",
              "      <td>40.780750</td>\n",
              "      <td>-73.969116</td>\n",
              "      <td>40.761230</td>\n",
              "      <td>1</td>\n",
              "      <td>2012</td>\n",
              "      <td>10</td>\n",
              "      <td>3</td>\n",
              "      <td>2</td>\n",
              "      <td>10</td>\n",
              "    </tr>\n",
              "    <tr>\n",
              "      <th>550895</th>\n",
              "      <td>8.9</td>\n",
              "      <td>2012-03-14 13:44:27+00:00</td>\n",
              "      <td>-73.952187</td>\n",
              "      <td>40.783951</td>\n",
              "      <td>-73.978645</td>\n",
              "      <td>40.772602</td>\n",
              "      <td>1</td>\n",
              "      <td>2012</td>\n",
              "      <td>3</td>\n",
              "      <td>14</td>\n",
              "      <td>2</td>\n",
              "      <td>13</td>\n",
              "    </tr>\n",
              "    <tr>\n",
              "      <th>444151</th>\n",
              "      <td>7.3</td>\n",
              "      <td>2012-02-05 15:33:00+00:00</td>\n",
              "      <td>-73.977112</td>\n",
              "      <td>40.746834</td>\n",
              "      <td>-73.991104</td>\n",
              "      <td>40.750404</td>\n",
              "      <td>2</td>\n",
              "      <td>2012</td>\n",
              "      <td>2</td>\n",
              "      <td>5</td>\n",
              "      <td>6</td>\n",
              "      <td>15</td>\n",
              "    </tr>\n",
              "    <tr>\n",
              "      <th>...</th>\n",
              "      <td>...</td>\n",
              "      <td>...</td>\n",
              "      <td>...</td>\n",
              "      <td>...</td>\n",
              "      <td>...</td>\n",
              "      <td>...</td>\n",
              "      <td>...</td>\n",
              "      <td>...</td>\n",
              "      <td>...</td>\n",
              "      <td>...</td>\n",
              "      <td>...</td>\n",
              "      <td>...</td>\n",
              "    </tr>\n",
              "    <tr>\n",
              "      <th>110268</th>\n",
              "      <td>9.3</td>\n",
              "      <td>2009-09-06 16:12:00+00:00</td>\n",
              "      <td>-73.987152</td>\n",
              "      <td>40.750633</td>\n",
              "      <td>-73.979073</td>\n",
              "      <td>40.763168</td>\n",
              "      <td>1</td>\n",
              "      <td>2009</td>\n",
              "      <td>9</td>\n",
              "      <td>6</td>\n",
              "      <td>6</td>\n",
              "      <td>16</td>\n",
              "    </tr>\n",
              "    <tr>\n",
              "      <th>259178</th>\n",
              "      <td>18.5</td>\n",
              "      <td>2009-04-12 09:58:56+00:00</td>\n",
              "      <td>-73.972656</td>\n",
              "      <td>40.764042</td>\n",
              "      <td>-74.013176</td>\n",
              "      <td>40.707840</td>\n",
              "      <td>2</td>\n",
              "      <td>2009</td>\n",
              "      <td>4</td>\n",
              "      <td>12</td>\n",
              "      <td>6</td>\n",
              "      <td>9</td>\n",
              "    </tr>\n",
              "    <tr>\n",
              "      <th>365838</th>\n",
              "      <td>10.1</td>\n",
              "      <td>2012-07-12 19:30:00+00:00</td>\n",
              "      <td>-73.991982</td>\n",
              "      <td>40.749767</td>\n",
              "      <td>-73.989845</td>\n",
              "      <td>40.720551</td>\n",
              "      <td>3</td>\n",
              "      <td>2012</td>\n",
              "      <td>7</td>\n",
              "      <td>12</td>\n",
              "      <td>3</td>\n",
              "      <td>19</td>\n",
              "    </tr>\n",
              "    <tr>\n",
              "      <th>131932</th>\n",
              "      <td>10.9</td>\n",
              "      <td>2011-02-17 18:33:00+00:00</td>\n",
              "      <td>-73.969055</td>\n",
              "      <td>40.761398</td>\n",
              "      <td>-73.990814</td>\n",
              "      <td>40.751328</td>\n",
              "      <td>1</td>\n",
              "      <td>2011</td>\n",
              "      <td>2</td>\n",
              "      <td>17</td>\n",
              "      <td>3</td>\n",
              "      <td>18</td>\n",
              "    </tr>\n",
              "    <tr>\n",
              "      <th>121958</th>\n",
              "      <td>9.5</td>\n",
              "      <td>2015-01-14 17:35:03+00:00</td>\n",
              "      <td>-73.983040</td>\n",
              "      <td>40.742142</td>\n",
              "      <td>-74.002510</td>\n",
              "      <td>40.727650</td>\n",
              "      <td>1</td>\n",
              "      <td>2015</td>\n",
              "      <td>1</td>\n",
              "      <td>14</td>\n",
              "      <td>2</td>\n",
              "      <td>17</td>\n",
              "    </tr>\n",
              "  </tbody>\n",
              "</table>\n",
              "<p>441960 rows × 12 columns</p>\n",
              "</div>\n",
              "      <button class=\"colab-df-convert\" onclick=\"convertToInteractive('df-b7c6219e-4cf1-4c12-a812-e7b1322055eb')\"\n",
              "              title=\"Convert this dataframe to an interactive table.\"\n",
              "              style=\"display:none;\">\n",
              "        \n",
              "  <svg xmlns=\"http://www.w3.org/2000/svg\" height=\"24px\"viewBox=\"0 0 24 24\"\n",
              "       width=\"24px\">\n",
              "    <path d=\"M0 0h24v24H0V0z\" fill=\"none\"/>\n",
              "    <path d=\"M18.56 5.44l.94 2.06.94-2.06 2.06-.94-2.06-.94-.94-2.06-.94 2.06-2.06.94zm-11 1L8.5 8.5l.94-2.06 2.06-.94-2.06-.94L8.5 2.5l-.94 2.06-2.06.94zm10 10l.94 2.06.94-2.06 2.06-.94-2.06-.94-.94-2.06-.94 2.06-2.06.94z\"/><path d=\"M17.41 7.96l-1.37-1.37c-.4-.4-.92-.59-1.43-.59-.52 0-1.04.2-1.43.59L10.3 9.45l-7.72 7.72c-.78.78-.78 2.05 0 2.83L4 21.41c.39.39.9.59 1.41.59.51 0 1.02-.2 1.41-.59l7.78-7.78 2.81-2.81c.8-.78.8-2.07 0-2.86zM5.41 20L4 18.59l7.72-7.72 1.47 1.35L5.41 20z\"/>\n",
              "  </svg>\n",
              "      </button>\n",
              "      \n",
              "  <style>\n",
              "    .colab-df-container {\n",
              "      display:flex;\n",
              "      flex-wrap:wrap;\n",
              "      gap: 12px;\n",
              "    }\n",
              "\n",
              "    .colab-df-convert {\n",
              "      background-color: #E8F0FE;\n",
              "      border: none;\n",
              "      border-radius: 50%;\n",
              "      cursor: pointer;\n",
              "      display: none;\n",
              "      fill: #1967D2;\n",
              "      height: 32px;\n",
              "      padding: 0 0 0 0;\n",
              "      width: 32px;\n",
              "    }\n",
              "\n",
              "    .colab-df-convert:hover {\n",
              "      background-color: #E2EBFA;\n",
              "      box-shadow: 0px 1px 2px rgba(60, 64, 67, 0.3), 0px 1px 3px 1px rgba(60, 64, 67, 0.15);\n",
              "      fill: #174EA6;\n",
              "    }\n",
              "\n",
              "    [theme=dark] .colab-df-convert {\n",
              "      background-color: #3B4455;\n",
              "      fill: #D2E3FC;\n",
              "    }\n",
              "\n",
              "    [theme=dark] .colab-df-convert:hover {\n",
              "      background-color: #434B5C;\n",
              "      box-shadow: 0px 1px 3px 1px rgba(0, 0, 0, 0.15);\n",
              "      filter: drop-shadow(0px 1px 2px rgba(0, 0, 0, 0.3));\n",
              "      fill: #FFFFFF;\n",
              "    }\n",
              "  </style>\n",
              "\n",
              "      <script>\n",
              "        const buttonEl =\n",
              "          document.querySelector('#df-b7c6219e-4cf1-4c12-a812-e7b1322055eb button.colab-df-convert');\n",
              "        buttonEl.style.display =\n",
              "          google.colab.kernel.accessAllowed ? 'block' : 'none';\n",
              "\n",
              "        async function convertToInteractive(key) {\n",
              "          const element = document.querySelector('#df-b7c6219e-4cf1-4c12-a812-e7b1322055eb');\n",
              "          const dataTable =\n",
              "            await google.colab.kernel.invokeFunction('convertToInteractive',\n",
              "                                                     [key], {});\n",
              "          if (!dataTable) return;\n",
              "\n",
              "          const docLinkHtml = 'Like what you see? Visit the ' +\n",
              "            '<a target=\"_blank\" href=https://colab.research.google.com/notebooks/data_table.ipynb>data table notebook</a>'\n",
              "            + ' to learn more about interactive tables.';\n",
              "          element.innerHTML = '';\n",
              "          dataTable['output_type'] = 'display_data';\n",
              "          await google.colab.output.renderOutput(dataTable, element);\n",
              "          const docLink = document.createElement('div');\n",
              "          docLink.innerHTML = docLinkHtml;\n",
              "          element.appendChild(docLink);\n",
              "        }\n",
              "      </script>\n",
              "    </div>\n",
              "  </div>\n",
              "  "
            ]
          },
          "metadata": {},
          "execution_count": 79
        }
      ],
      "source": [
        "train_df"
      ]
    },
    {
      "cell_type": "markdown",
      "metadata": {
        "id": "8y4jRLTEQNuH"
      },
      "source": [
        "**Distance b/w pickup and drop location**"
      ]
    },
    {
      "cell_type": "code",
      "execution_count": 80,
      "metadata": {
        "id": "D4YeywtYOUuw"
      },
      "outputs": [],
      "source": [
        "import numpy as np\n",
        "\n",
        "def haversine_np(lon1, lat1, lon2, lat2):\n",
        "    \"\"\"\n",
        "    Calculate the great circle distance between two points\n",
        "    on the earth (specified in decimal degrees)\n",
        "\n",
        "    All args must be of equal length.    \n",
        "\n",
        "    \"\"\"\n",
        "    lon1, lat1, lon2, lat2 = map(np.radians, [lon1, lat1, lon2, lat2])\n",
        "\n",
        "    dlon = lon2 - lon1\n",
        "    dlat = lat2 - lat1\n",
        "\n",
        "    a = np.sin(dlat/2.0)**2 + np.cos(lat1) * np.cos(lat2) * np.sin(dlon/2.0)**2\n",
        "\n",
        "    c = 2 * np.arcsin(np.sqrt(a))\n",
        "    km = 6367 * c\n",
        "    return km"
      ]
    },
    {
      "cell_type": "code",
      "execution_count": 81,
      "metadata": {
        "id": "ArvpMEu4Qldg"
      },
      "outputs": [],
      "source": [
        "def add_trip_distance(df):\n",
        "  df['trip_distance']=haversine_np(df['pickup_longitude'],\n",
        "                                   df['pickup_latitude'],\n",
        "                                   df['dropoff_longitude'],\n",
        "                                   df['dropoff_latitude'])"
      ]
    },
    {
      "cell_type": "code",
      "execution_count": 82,
      "metadata": {
        "id": "IwloWd4KRe-M"
      },
      "outputs": [],
      "source": [
        "add_trip_distance(train_df)"
      ]
    },
    {
      "cell_type": "code",
      "execution_count": 83,
      "metadata": {
        "id": "qguqlqVFRjI0"
      },
      "outputs": [],
      "source": [
        "add_trip_distance(val_df)"
      ]
    },
    {
      "cell_type": "code",
      "execution_count": 84,
      "metadata": {
        "id": "MDj5hW0cRqWL"
      },
      "outputs": [],
      "source": [
        "add_trip_distance(test_df)"
      ]
    },
    {
      "cell_type": "code",
      "execution_count": 85,
      "metadata": {
        "colab": {
          "base_uri": "https://localhost:8080/",
          "height": 661
        },
        "id": "5sljXzIwRwxI",
        "outputId": "0c0f846e-2cd6-4eea-9b53-c6f40f6b7734"
      },
      "outputs": [
        {
          "output_type": "execute_result",
          "data": {
            "text/plain": [
              "        fare_amount           pickup_datetime  pickup_longitude  \\\n",
              "353352          6.0 2015-04-12 03:40:38+00:00        -73.993652   \n",
              "360070          3.7 2011-01-26 19:21:00+00:00        -73.993805   \n",
              "372609         10.0 2012-10-03 10:40:17+00:00        -73.959160   \n",
              "550895          8.9 2012-03-14 13:44:27+00:00        -73.952187   \n",
              "444151          7.3 2012-02-05 15:33:00+00:00        -73.977112   \n",
              "...             ...                       ...               ...   \n",
              "110268          9.3 2009-09-06 16:12:00+00:00        -73.987152   \n",
              "259178         18.5 2009-04-12 09:58:56+00:00        -73.972656   \n",
              "365838         10.1 2012-07-12 19:30:00+00:00        -73.991982   \n",
              "131932         10.9 2011-02-17 18:33:00+00:00        -73.969055   \n",
              "121958          9.5 2015-01-14 17:35:03+00:00        -73.983040   \n",
              "\n",
              "        pickup_latitude  dropoff_longitude  dropoff_latitude  passenger_count  \\\n",
              "353352        40.741543         -73.977974         40.742352                4   \n",
              "360070        40.724579         -73.993805         40.724579                1   \n",
              "372609        40.780750         -73.969116         40.761230                1   \n",
              "550895        40.783951         -73.978645         40.772602                1   \n",
              "444151        40.746834         -73.991104         40.750404                2   \n",
              "...                 ...                ...               ...              ...   \n",
              "110268        40.750633         -73.979073         40.763168                1   \n",
              "259178        40.764042         -74.013176         40.707840                2   \n",
              "365838        40.749767         -73.989845         40.720551                3   \n",
              "131932        40.761398         -73.990814         40.751328                1   \n",
              "121958        40.742142         -74.002510         40.727650                1   \n",
              "\n",
              "        pickup_datetime_year  pickup_datetime_month  pickup_datetime_day  \\\n",
              "353352                  2015                      4                   12   \n",
              "360070                  2011                      1                   26   \n",
              "372609                  2012                     10                    3   \n",
              "550895                  2012                      3                   14   \n",
              "444151                  2012                      2                    5   \n",
              "...                      ...                    ...                  ...   \n",
              "110268                  2009                      9                    6   \n",
              "259178                  2009                      4                   12   \n",
              "365838                  2012                      7                   12   \n",
              "131932                  2011                      2                   17   \n",
              "121958                  2015                      1                   14   \n",
              "\n",
              "        pickup_datetime_weekday  pickup_datetime_hour  trip_distance  \n",
              "353352                        6                     3       1.323411  \n",
              "360070                        2                    19       0.000000  \n",
              "372609                        2                    10       2.325504  \n",
              "550895                        2                    13       2.558912  \n",
              "444151                        6                    15       1.243267  \n",
              "...                         ...                   ...            ...  \n",
              "110268                        6                    16       1.549976  \n",
              "259178                        6                     9       7.116529  \n",
              "365838                        3                    19       3.251601  \n",
              "131932                        3                    18       2.146101  \n",
              "121958                        2                    17       2.298132  \n",
              "\n",
              "[441960 rows x 13 columns]"
            ],
            "text/html": [
              "\n",
              "  <div id=\"df-6b076b46-4b0e-47a9-b973-e300a3e95ff4\">\n",
              "    <div class=\"colab-df-container\">\n",
              "      <div>\n",
              "<style scoped>\n",
              "    .dataframe tbody tr th:only-of-type {\n",
              "        vertical-align: middle;\n",
              "    }\n",
              "\n",
              "    .dataframe tbody tr th {\n",
              "        vertical-align: top;\n",
              "    }\n",
              "\n",
              "    .dataframe thead th {\n",
              "        text-align: right;\n",
              "    }\n",
              "</style>\n",
              "<table border=\"1\" class=\"dataframe\">\n",
              "  <thead>\n",
              "    <tr style=\"text-align: right;\">\n",
              "      <th></th>\n",
              "      <th>fare_amount</th>\n",
              "      <th>pickup_datetime</th>\n",
              "      <th>pickup_longitude</th>\n",
              "      <th>pickup_latitude</th>\n",
              "      <th>dropoff_longitude</th>\n",
              "      <th>dropoff_latitude</th>\n",
              "      <th>passenger_count</th>\n",
              "      <th>pickup_datetime_year</th>\n",
              "      <th>pickup_datetime_month</th>\n",
              "      <th>pickup_datetime_day</th>\n",
              "      <th>pickup_datetime_weekday</th>\n",
              "      <th>pickup_datetime_hour</th>\n",
              "      <th>trip_distance</th>\n",
              "    </tr>\n",
              "  </thead>\n",
              "  <tbody>\n",
              "    <tr>\n",
              "      <th>353352</th>\n",
              "      <td>6.0</td>\n",
              "      <td>2015-04-12 03:40:38+00:00</td>\n",
              "      <td>-73.993652</td>\n",
              "      <td>40.741543</td>\n",
              "      <td>-73.977974</td>\n",
              "      <td>40.742352</td>\n",
              "      <td>4</td>\n",
              "      <td>2015</td>\n",
              "      <td>4</td>\n",
              "      <td>12</td>\n",
              "      <td>6</td>\n",
              "      <td>3</td>\n",
              "      <td>1.323411</td>\n",
              "    </tr>\n",
              "    <tr>\n",
              "      <th>360070</th>\n",
              "      <td>3.7</td>\n",
              "      <td>2011-01-26 19:21:00+00:00</td>\n",
              "      <td>-73.993805</td>\n",
              "      <td>40.724579</td>\n",
              "      <td>-73.993805</td>\n",
              "      <td>40.724579</td>\n",
              "      <td>1</td>\n",
              "      <td>2011</td>\n",
              "      <td>1</td>\n",
              "      <td>26</td>\n",
              "      <td>2</td>\n",
              "      <td>19</td>\n",
              "      <td>0.000000</td>\n",
              "    </tr>\n",
              "    <tr>\n",
              "      <th>372609</th>\n",
              "      <td>10.0</td>\n",
              "      <td>2012-10-03 10:40:17+00:00</td>\n",
              "      <td>-73.959160</td>\n",
              "      <td>40.780750</td>\n",
              "      <td>-73.969116</td>\n",
              "      <td>40.761230</td>\n",
              "      <td>1</td>\n",
              "      <td>2012</td>\n",
              "      <td>10</td>\n",
              "      <td>3</td>\n",
              "      <td>2</td>\n",
              "      <td>10</td>\n",
              "      <td>2.325504</td>\n",
              "    </tr>\n",
              "    <tr>\n",
              "      <th>550895</th>\n",
              "      <td>8.9</td>\n",
              "      <td>2012-03-14 13:44:27+00:00</td>\n",
              "      <td>-73.952187</td>\n",
              "      <td>40.783951</td>\n",
              "      <td>-73.978645</td>\n",
              "      <td>40.772602</td>\n",
              "      <td>1</td>\n",
              "      <td>2012</td>\n",
              "      <td>3</td>\n",
              "      <td>14</td>\n",
              "      <td>2</td>\n",
              "      <td>13</td>\n",
              "      <td>2.558912</td>\n",
              "    </tr>\n",
              "    <tr>\n",
              "      <th>444151</th>\n",
              "      <td>7.3</td>\n",
              "      <td>2012-02-05 15:33:00+00:00</td>\n",
              "      <td>-73.977112</td>\n",
              "      <td>40.746834</td>\n",
              "      <td>-73.991104</td>\n",
              "      <td>40.750404</td>\n",
              "      <td>2</td>\n",
              "      <td>2012</td>\n",
              "      <td>2</td>\n",
              "      <td>5</td>\n",
              "      <td>6</td>\n",
              "      <td>15</td>\n",
              "      <td>1.243267</td>\n",
              "    </tr>\n",
              "    <tr>\n",
              "      <th>...</th>\n",
              "      <td>...</td>\n",
              "      <td>...</td>\n",
              "      <td>...</td>\n",
              "      <td>...</td>\n",
              "      <td>...</td>\n",
              "      <td>...</td>\n",
              "      <td>...</td>\n",
              "      <td>...</td>\n",
              "      <td>...</td>\n",
              "      <td>...</td>\n",
              "      <td>...</td>\n",
              "      <td>...</td>\n",
              "      <td>...</td>\n",
              "    </tr>\n",
              "    <tr>\n",
              "      <th>110268</th>\n",
              "      <td>9.3</td>\n",
              "      <td>2009-09-06 16:12:00+00:00</td>\n",
              "      <td>-73.987152</td>\n",
              "      <td>40.750633</td>\n",
              "      <td>-73.979073</td>\n",
              "      <td>40.763168</td>\n",
              "      <td>1</td>\n",
              "      <td>2009</td>\n",
              "      <td>9</td>\n",
              "      <td>6</td>\n",
              "      <td>6</td>\n",
              "      <td>16</td>\n",
              "      <td>1.549976</td>\n",
              "    </tr>\n",
              "    <tr>\n",
              "      <th>259178</th>\n",
              "      <td>18.5</td>\n",
              "      <td>2009-04-12 09:58:56+00:00</td>\n",
              "      <td>-73.972656</td>\n",
              "      <td>40.764042</td>\n",
              "      <td>-74.013176</td>\n",
              "      <td>40.707840</td>\n",
              "      <td>2</td>\n",
              "      <td>2009</td>\n",
              "      <td>4</td>\n",
              "      <td>12</td>\n",
              "      <td>6</td>\n",
              "      <td>9</td>\n",
              "      <td>7.116529</td>\n",
              "    </tr>\n",
              "    <tr>\n",
              "      <th>365838</th>\n",
              "      <td>10.1</td>\n",
              "      <td>2012-07-12 19:30:00+00:00</td>\n",
              "      <td>-73.991982</td>\n",
              "      <td>40.749767</td>\n",
              "      <td>-73.989845</td>\n",
              "      <td>40.720551</td>\n",
              "      <td>3</td>\n",
              "      <td>2012</td>\n",
              "      <td>7</td>\n",
              "      <td>12</td>\n",
              "      <td>3</td>\n",
              "      <td>19</td>\n",
              "      <td>3.251601</td>\n",
              "    </tr>\n",
              "    <tr>\n",
              "      <th>131932</th>\n",
              "      <td>10.9</td>\n",
              "      <td>2011-02-17 18:33:00+00:00</td>\n",
              "      <td>-73.969055</td>\n",
              "      <td>40.761398</td>\n",
              "      <td>-73.990814</td>\n",
              "      <td>40.751328</td>\n",
              "      <td>1</td>\n",
              "      <td>2011</td>\n",
              "      <td>2</td>\n",
              "      <td>17</td>\n",
              "      <td>3</td>\n",
              "      <td>18</td>\n",
              "      <td>2.146101</td>\n",
              "    </tr>\n",
              "    <tr>\n",
              "      <th>121958</th>\n",
              "      <td>9.5</td>\n",
              "      <td>2015-01-14 17:35:03+00:00</td>\n",
              "      <td>-73.983040</td>\n",
              "      <td>40.742142</td>\n",
              "      <td>-74.002510</td>\n",
              "      <td>40.727650</td>\n",
              "      <td>1</td>\n",
              "      <td>2015</td>\n",
              "      <td>1</td>\n",
              "      <td>14</td>\n",
              "      <td>2</td>\n",
              "      <td>17</td>\n",
              "      <td>2.298132</td>\n",
              "    </tr>\n",
              "  </tbody>\n",
              "</table>\n",
              "<p>441960 rows × 13 columns</p>\n",
              "</div>\n",
              "      <button class=\"colab-df-convert\" onclick=\"convertToInteractive('df-6b076b46-4b0e-47a9-b973-e300a3e95ff4')\"\n",
              "              title=\"Convert this dataframe to an interactive table.\"\n",
              "              style=\"display:none;\">\n",
              "        \n",
              "  <svg xmlns=\"http://www.w3.org/2000/svg\" height=\"24px\"viewBox=\"0 0 24 24\"\n",
              "       width=\"24px\">\n",
              "    <path d=\"M0 0h24v24H0V0z\" fill=\"none\"/>\n",
              "    <path d=\"M18.56 5.44l.94 2.06.94-2.06 2.06-.94-2.06-.94-.94-2.06-.94 2.06-2.06.94zm-11 1L8.5 8.5l.94-2.06 2.06-.94-2.06-.94L8.5 2.5l-.94 2.06-2.06.94zm10 10l.94 2.06.94-2.06 2.06-.94-2.06-.94-.94-2.06-.94 2.06-2.06.94z\"/><path d=\"M17.41 7.96l-1.37-1.37c-.4-.4-.92-.59-1.43-.59-.52 0-1.04.2-1.43.59L10.3 9.45l-7.72 7.72c-.78.78-.78 2.05 0 2.83L4 21.41c.39.39.9.59 1.41.59.51 0 1.02-.2 1.41-.59l7.78-7.78 2.81-2.81c.8-.78.8-2.07 0-2.86zM5.41 20L4 18.59l7.72-7.72 1.47 1.35L5.41 20z\"/>\n",
              "  </svg>\n",
              "      </button>\n",
              "      \n",
              "  <style>\n",
              "    .colab-df-container {\n",
              "      display:flex;\n",
              "      flex-wrap:wrap;\n",
              "      gap: 12px;\n",
              "    }\n",
              "\n",
              "    .colab-df-convert {\n",
              "      background-color: #E8F0FE;\n",
              "      border: none;\n",
              "      border-radius: 50%;\n",
              "      cursor: pointer;\n",
              "      display: none;\n",
              "      fill: #1967D2;\n",
              "      height: 32px;\n",
              "      padding: 0 0 0 0;\n",
              "      width: 32px;\n",
              "    }\n",
              "\n",
              "    .colab-df-convert:hover {\n",
              "      background-color: #E2EBFA;\n",
              "      box-shadow: 0px 1px 2px rgba(60, 64, 67, 0.3), 0px 1px 3px 1px rgba(60, 64, 67, 0.15);\n",
              "      fill: #174EA6;\n",
              "    }\n",
              "\n",
              "    [theme=dark] .colab-df-convert {\n",
              "      background-color: #3B4455;\n",
              "      fill: #D2E3FC;\n",
              "    }\n",
              "\n",
              "    [theme=dark] .colab-df-convert:hover {\n",
              "      background-color: #434B5C;\n",
              "      box-shadow: 0px 1px 3px 1px rgba(0, 0, 0, 0.15);\n",
              "      filter: drop-shadow(0px 1px 2px rgba(0, 0, 0, 0.3));\n",
              "      fill: #FFFFFF;\n",
              "    }\n",
              "  </style>\n",
              "\n",
              "      <script>\n",
              "        const buttonEl =\n",
              "          document.querySelector('#df-6b076b46-4b0e-47a9-b973-e300a3e95ff4 button.colab-df-convert');\n",
              "        buttonEl.style.display =\n",
              "          google.colab.kernel.accessAllowed ? 'block' : 'none';\n",
              "\n",
              "        async function convertToInteractive(key) {\n",
              "          const element = document.querySelector('#df-6b076b46-4b0e-47a9-b973-e300a3e95ff4');\n",
              "          const dataTable =\n",
              "            await google.colab.kernel.invokeFunction('convertToInteractive',\n",
              "                                                     [key], {});\n",
              "          if (!dataTable) return;\n",
              "\n",
              "          const docLinkHtml = 'Like what you see? Visit the ' +\n",
              "            '<a target=\"_blank\" href=https://colab.research.google.com/notebooks/data_table.ipynb>data table notebook</a>'\n",
              "            + ' to learn more about interactive tables.';\n",
              "          element.innerHTML = '';\n",
              "          dataTable['output_type'] = 'display_data';\n",
              "          await google.colab.output.renderOutput(dataTable, element);\n",
              "          const docLink = document.createElement('div');\n",
              "          docLink.innerHTML = docLinkHtml;\n",
              "          element.appendChild(docLink);\n",
              "        }\n",
              "      </script>\n",
              "    </div>\n",
              "  </div>\n",
              "  "
            ]
          },
          "metadata": {},
          "execution_count": 85
        }
      ],
      "source": [
        "train_df\n"
      ]
    },
    {
      "cell_type": "markdown",
      "metadata": {
        "id": "T_Dm3DCkSM3F"
      },
      "source": [
        "**Calculating distance from popular landmarks to generate more accurate results** \n",
        "\n",
        "- JFK Airport\n",
        "- LGA Airport\n",
        "- EWR Airport\n",
        "- Times Square\n",
        "- Met Museum\n",
        "- World Trade Center"
      ]
    },
    {
      "cell_type": "code",
      "execution_count": 86,
      "metadata": {
        "id": "FNTuNo8ZR1e8"
      },
      "outputs": [],
      "source": [
        "jfk_lonlat = -73.7781, 40.6413\n",
        "lga_lonlat = -73.8740, 40.7769\n",
        "ewr_lonlat = -74.1745, 40.6895\n",
        "met_lonlat = -73.9632, 40.7794\n",
        "wtc_lonlat = -74.0099, 40.7126\n"
      ]
    },
    {
      "cell_type": "code",
      "execution_count": 87,
      "metadata": {
        "id": "V4fc649LTha-"
      },
      "outputs": [],
      "source": [
        "def add_landmark_dropoff_distance(df, landmark_name, landmark_lonlat):\n",
        "    lon, lat = landmark_lonlat\n",
        "    df[landmark_name + '_drop_distance'] = haversine_np(lon, lat, df['dropoff_longitude'], df['dropoff_latitude'])"
      ]
    },
    {
      "cell_type": "code",
      "execution_count": 88,
      "metadata": {
        "id": "QIHv_VTVT7L3"
      },
      "outputs": [],
      "source": [
        "for a_df in [train_df, val_df, test_df]:\n",
        "    for name, lonlat in [('jfk', jfk_lonlat), ('lga', lga_lonlat), ('ewr', ewr_lonlat), ('met', met_lonlat), ('wtc', wtc_lonlat)]:\n",
        "        add_landmark_dropoff_distance(a_df, name, lonlat)"
      ]
    },
    {
      "cell_type": "code",
      "execution_count": 89,
      "metadata": {
        "colab": {
          "base_uri": "https://localhost:8080/",
          "height": 357
        },
        "id": "xKec5Hx7WXT9",
        "outputId": "272c07a3-6a51-4b02-bc48-abe47dffbaac"
      },
      "outputs": [
        {
          "output_type": "execute_result",
          "data": {
            "text/plain": [
              "        fare_amount           pickup_datetime  pickup_longitude  \\\n",
              "4950      27.870001 2010-08-11 16:02:00+00:00        -73.864288   \n",
              "173377     4.500000 2010-11-06 13:59:42+00:00        -73.979004   \n",
              "52489     10.000000 2013-07-09 18:03:01+00:00        -73.955032   \n",
              "82085      8.900000 2010-09-08 10:56:00+00:00        -73.967690   \n",
              "15208     57.330002 2014-04-29 12:56:36+00:00        -73.781227   \n",
              "\n",
              "        pickup_latitude  dropoff_longitude  dropoff_latitude  passenger_count  \\\n",
              "4950          40.770855         -73.984673         40.750992                1   \n",
              "173377        40.758518         -73.973785         40.764400                4   \n",
              "52489         40.772209         -73.968369         40.755104                1   \n",
              "82085         40.768578         -73.960106         40.780449                5   \n",
              "15208         40.644951         -73.982658         40.764198                1   \n",
              "\n",
              "        pickup_datetime_year  pickup_datetime_month  pickup_datetime_day  \\\n",
              "4950                    2010                      8                   11   \n",
              "173377                  2010                     11                    6   \n",
              "52489                   2013                      7                    9   \n",
              "82085                   2010                      9                    8   \n",
              "15208                   2014                      4                   29   \n",
              "\n",
              "        pickup_datetime_weekday  pickup_datetime_hour  trip_distance  \\\n",
              "4950                          2                    16      10.370248   \n",
              "173377                        5                    13       0.787390   \n",
              "52489                         1                    18       2.207437   \n",
              "82085                         2                    10       1.465589   \n",
              "15208                         1                    12      21.530001   \n",
              "\n",
              "        jfk_drop_distance  lga_drop_distance  ewr_drop_distance  \\\n",
              "4950            21.248405           9.749453          17.387085   \n",
              "173377          21.421843           8.511603          18.841354   \n",
              "52489           20.418131           8.303317          18.829184   \n",
              "82085           21.774673           7.255995          20.689610   \n",
              "15208           21.988331           9.252487          18.163809   \n",
              "\n",
              "        met_drop_distance  wtc_drop_distance  \n",
              "4950             3.637211           4.766121  \n",
              "173377           1.889686           6.510244  \n",
              "52489            2.734536           5.877184  \n",
              "82085            0.285760           8.626845  \n",
              "15208            2.352280           6.175792  "
            ],
            "text/html": [
              "\n",
              "  <div id=\"df-8bf4f7f6-f303-4770-8a28-027b84f94feb\">\n",
              "    <div class=\"colab-df-container\">\n",
              "      <div>\n",
              "<style scoped>\n",
              "    .dataframe tbody tr th:only-of-type {\n",
              "        vertical-align: middle;\n",
              "    }\n",
              "\n",
              "    .dataframe tbody tr th {\n",
              "        vertical-align: top;\n",
              "    }\n",
              "\n",
              "    .dataframe thead th {\n",
              "        text-align: right;\n",
              "    }\n",
              "</style>\n",
              "<table border=\"1\" class=\"dataframe\">\n",
              "  <thead>\n",
              "    <tr style=\"text-align: right;\">\n",
              "      <th></th>\n",
              "      <th>fare_amount</th>\n",
              "      <th>pickup_datetime</th>\n",
              "      <th>pickup_longitude</th>\n",
              "      <th>pickup_latitude</th>\n",
              "      <th>dropoff_longitude</th>\n",
              "      <th>dropoff_latitude</th>\n",
              "      <th>passenger_count</th>\n",
              "      <th>pickup_datetime_year</th>\n",
              "      <th>pickup_datetime_month</th>\n",
              "      <th>pickup_datetime_day</th>\n",
              "      <th>pickup_datetime_weekday</th>\n",
              "      <th>pickup_datetime_hour</th>\n",
              "      <th>trip_distance</th>\n",
              "      <th>jfk_drop_distance</th>\n",
              "      <th>lga_drop_distance</th>\n",
              "      <th>ewr_drop_distance</th>\n",
              "      <th>met_drop_distance</th>\n",
              "      <th>wtc_drop_distance</th>\n",
              "    </tr>\n",
              "  </thead>\n",
              "  <tbody>\n",
              "    <tr>\n",
              "      <th>4950</th>\n",
              "      <td>27.870001</td>\n",
              "      <td>2010-08-11 16:02:00+00:00</td>\n",
              "      <td>-73.864288</td>\n",
              "      <td>40.770855</td>\n",
              "      <td>-73.984673</td>\n",
              "      <td>40.750992</td>\n",
              "      <td>1</td>\n",
              "      <td>2010</td>\n",
              "      <td>8</td>\n",
              "      <td>11</td>\n",
              "      <td>2</td>\n",
              "      <td>16</td>\n",
              "      <td>10.370248</td>\n",
              "      <td>21.248405</td>\n",
              "      <td>9.749453</td>\n",
              "      <td>17.387085</td>\n",
              "      <td>3.637211</td>\n",
              "      <td>4.766121</td>\n",
              "    </tr>\n",
              "    <tr>\n",
              "      <th>173377</th>\n",
              "      <td>4.500000</td>\n",
              "      <td>2010-11-06 13:59:42+00:00</td>\n",
              "      <td>-73.979004</td>\n",
              "      <td>40.758518</td>\n",
              "      <td>-73.973785</td>\n",
              "      <td>40.764400</td>\n",
              "      <td>4</td>\n",
              "      <td>2010</td>\n",
              "      <td>11</td>\n",
              "      <td>6</td>\n",
              "      <td>5</td>\n",
              "      <td>13</td>\n",
              "      <td>0.787390</td>\n",
              "      <td>21.421843</td>\n",
              "      <td>8.511603</td>\n",
              "      <td>18.841354</td>\n",
              "      <td>1.889686</td>\n",
              "      <td>6.510244</td>\n",
              "    </tr>\n",
              "    <tr>\n",
              "      <th>52489</th>\n",
              "      <td>10.000000</td>\n",
              "      <td>2013-07-09 18:03:01+00:00</td>\n",
              "      <td>-73.955032</td>\n",
              "      <td>40.772209</td>\n",
              "      <td>-73.968369</td>\n",
              "      <td>40.755104</td>\n",
              "      <td>1</td>\n",
              "      <td>2013</td>\n",
              "      <td>7</td>\n",
              "      <td>9</td>\n",
              "      <td>1</td>\n",
              "      <td>18</td>\n",
              "      <td>2.207437</td>\n",
              "      <td>20.418131</td>\n",
              "      <td>8.303317</td>\n",
              "      <td>18.829184</td>\n",
              "      <td>2.734536</td>\n",
              "      <td>5.877184</td>\n",
              "    </tr>\n",
              "    <tr>\n",
              "      <th>82085</th>\n",
              "      <td>8.900000</td>\n",
              "      <td>2010-09-08 10:56:00+00:00</td>\n",
              "      <td>-73.967690</td>\n",
              "      <td>40.768578</td>\n",
              "      <td>-73.960106</td>\n",
              "      <td>40.780449</td>\n",
              "      <td>5</td>\n",
              "      <td>2010</td>\n",
              "      <td>9</td>\n",
              "      <td>8</td>\n",
              "      <td>2</td>\n",
              "      <td>10</td>\n",
              "      <td>1.465589</td>\n",
              "      <td>21.774673</td>\n",
              "      <td>7.255995</td>\n",
              "      <td>20.689610</td>\n",
              "      <td>0.285760</td>\n",
              "      <td>8.626845</td>\n",
              "    </tr>\n",
              "    <tr>\n",
              "      <th>15208</th>\n",
              "      <td>57.330002</td>\n",
              "      <td>2014-04-29 12:56:36+00:00</td>\n",
              "      <td>-73.781227</td>\n",
              "      <td>40.644951</td>\n",
              "      <td>-73.982658</td>\n",
              "      <td>40.764198</td>\n",
              "      <td>1</td>\n",
              "      <td>2014</td>\n",
              "      <td>4</td>\n",
              "      <td>29</td>\n",
              "      <td>1</td>\n",
              "      <td>12</td>\n",
              "      <td>21.530001</td>\n",
              "      <td>21.988331</td>\n",
              "      <td>9.252487</td>\n",
              "      <td>18.163809</td>\n",
              "      <td>2.352280</td>\n",
              "      <td>6.175792</td>\n",
              "    </tr>\n",
              "  </tbody>\n",
              "</table>\n",
              "</div>\n",
              "      <button class=\"colab-df-convert\" onclick=\"convertToInteractive('df-8bf4f7f6-f303-4770-8a28-027b84f94feb')\"\n",
              "              title=\"Convert this dataframe to an interactive table.\"\n",
              "              style=\"display:none;\">\n",
              "        \n",
              "  <svg xmlns=\"http://www.w3.org/2000/svg\" height=\"24px\"viewBox=\"0 0 24 24\"\n",
              "       width=\"24px\">\n",
              "    <path d=\"M0 0h24v24H0V0z\" fill=\"none\"/>\n",
              "    <path d=\"M18.56 5.44l.94 2.06.94-2.06 2.06-.94-2.06-.94-.94-2.06-.94 2.06-2.06.94zm-11 1L8.5 8.5l.94-2.06 2.06-.94-2.06-.94L8.5 2.5l-.94 2.06-2.06.94zm10 10l.94 2.06.94-2.06 2.06-.94-2.06-.94-.94-2.06-.94 2.06-2.06.94z\"/><path d=\"M17.41 7.96l-1.37-1.37c-.4-.4-.92-.59-1.43-.59-.52 0-1.04.2-1.43.59L10.3 9.45l-7.72 7.72c-.78.78-.78 2.05 0 2.83L4 21.41c.39.39.9.59 1.41.59.51 0 1.02-.2 1.41-.59l7.78-7.78 2.81-2.81c.8-.78.8-2.07 0-2.86zM5.41 20L4 18.59l7.72-7.72 1.47 1.35L5.41 20z\"/>\n",
              "  </svg>\n",
              "      </button>\n",
              "      \n",
              "  <style>\n",
              "    .colab-df-container {\n",
              "      display:flex;\n",
              "      flex-wrap:wrap;\n",
              "      gap: 12px;\n",
              "    }\n",
              "\n",
              "    .colab-df-convert {\n",
              "      background-color: #E8F0FE;\n",
              "      border: none;\n",
              "      border-radius: 50%;\n",
              "      cursor: pointer;\n",
              "      display: none;\n",
              "      fill: #1967D2;\n",
              "      height: 32px;\n",
              "      padding: 0 0 0 0;\n",
              "      width: 32px;\n",
              "    }\n",
              "\n",
              "    .colab-df-convert:hover {\n",
              "      background-color: #E2EBFA;\n",
              "      box-shadow: 0px 1px 2px rgba(60, 64, 67, 0.3), 0px 1px 3px 1px rgba(60, 64, 67, 0.15);\n",
              "      fill: #174EA6;\n",
              "    }\n",
              "\n",
              "    [theme=dark] .colab-df-convert {\n",
              "      background-color: #3B4455;\n",
              "      fill: #D2E3FC;\n",
              "    }\n",
              "\n",
              "    [theme=dark] .colab-df-convert:hover {\n",
              "      background-color: #434B5C;\n",
              "      box-shadow: 0px 1px 3px 1px rgba(0, 0, 0, 0.15);\n",
              "      filter: drop-shadow(0px 1px 2px rgba(0, 0, 0, 0.3));\n",
              "      fill: #FFFFFF;\n",
              "    }\n",
              "  </style>\n",
              "\n",
              "      <script>\n",
              "        const buttonEl =\n",
              "          document.querySelector('#df-8bf4f7f6-f303-4770-8a28-027b84f94feb button.colab-df-convert');\n",
              "        buttonEl.style.display =\n",
              "          google.colab.kernel.accessAllowed ? 'block' : 'none';\n",
              "\n",
              "        async function convertToInteractive(key) {\n",
              "          const element = document.querySelector('#df-8bf4f7f6-f303-4770-8a28-027b84f94feb');\n",
              "          const dataTable =\n",
              "            await google.colab.kernel.invokeFunction('convertToInteractive',\n",
              "                                                     [key], {});\n",
              "          if (!dataTable) return;\n",
              "\n",
              "          const docLinkHtml = 'Like what you see? Visit the ' +\n",
              "            '<a target=\"_blank\" href=https://colab.research.google.com/notebooks/data_table.ipynb>data table notebook</a>'\n",
              "            + ' to learn more about interactive tables.';\n",
              "          element.innerHTML = '';\n",
              "          dataTable['output_type'] = 'display_data';\n",
              "          await google.colab.output.renderOutput(dataTable, element);\n",
              "          const docLink = document.createElement('div');\n",
              "          docLink.innerHTML = docLinkHtml;\n",
              "          element.appendChild(docLink);\n",
              "        }\n",
              "      </script>\n",
              "    </div>\n",
              "  </div>\n",
              "  "
            ]
          },
          "metadata": {},
          "execution_count": 89
        }
      ],
      "source": [
        "train_df.sample(5)"
      ]
    },
    {
      "cell_type": "markdown",
      "metadata": {
        "id": "qV72Nz87Wyaa"
      },
      "source": [
        "##Removing outliers and invalid data"
      ]
    },
    {
      "cell_type": "code",
      "execution_count": 90,
      "metadata": {
        "id": "r5OU6gE6WabW"
      },
      "outputs": [],
      "source": [
        "def remove_outliers(df):\n",
        "    return df[(df['fare_amount'] >= 1.) & \n",
        "              (df['fare_amount'] <= 500.) &\n",
        "              (df['pickup_longitude'] >= -75) & \n",
        "              (df['pickup_longitude'] <= -72) & \n",
        "              (df['dropoff_longitude'] >= -75) & \n",
        "              (df['dropoff_longitude'] <= -72) & \n",
        "              (df['pickup_latitude'] >= 40) & \n",
        "              (df['pickup_latitude'] <= 42) & \n",
        "              (df['dropoff_latitude'] >=40) & \n",
        "              (df['dropoff_latitude'] <= 42) & \n",
        "              (df['passenger_count'] >= 1) & \n",
        "              (df['passenger_count'] <= 6)]"
      ]
    },
    {
      "cell_type": "code",
      "execution_count": 91,
      "metadata": {
        "id": "wofY8UjZW67E"
      },
      "outputs": [],
      "source": [
        "train_df = remove_outliers(train_df)"
      ]
    },
    {
      "cell_type": "code",
      "execution_count": 92,
      "metadata": {
        "id": "S-FzfaawW9uA"
      },
      "outputs": [],
      "source": [
        "val_df = remove_outliers(val_df)\n"
      ]
    },
    {
      "cell_type": "markdown",
      "metadata": {
        "id": "cLL0MJXzeK3B"
      },
      "source": [
        "#Train and evaluate models\n",
        "\n",
        "We'll train each of the following and check\n",
        "\n",
        "- Ridge Regression\n",
        "- Random Forests\n",
        "- Gradient Boosting\n",
        "\n",
        "Exercise: Train Ridge, svm, knn, Decision Tree models"
      ]
    },
    {
      "cell_type": "code",
      "execution_count": 93,
      "metadata": {
        "colab": {
          "base_uri": "https://localhost:8080/"
        },
        "id": "VPsiKbAxW_vZ",
        "outputId": "996c6e78-281c-473e-9bbf-e77bafc62f6d"
      },
      "outputs": [
        {
          "output_type": "execute_result",
          "data": {
            "text/plain": [
              "Index(['fare_amount', 'pickup_datetime', 'pickup_longitude', 'pickup_latitude',\n",
              "       'dropoff_longitude', 'dropoff_latitude', 'passenger_count',\n",
              "       'pickup_datetime_year', 'pickup_datetime_month', 'pickup_datetime_day',\n",
              "       'pickup_datetime_weekday', 'pickup_datetime_hour', 'trip_distance',\n",
              "       'jfk_drop_distance', 'lga_drop_distance', 'ewr_drop_distance',\n",
              "       'met_drop_distance', 'wtc_drop_distance'],\n",
              "      dtype='object')"
            ]
          },
          "metadata": {},
          "execution_count": 93
        }
      ],
      "source": [
        "train_df.columns"
      ]
    },
    {
      "cell_type": "code",
      "execution_count": 94,
      "metadata": {
        "id": "MLbIEzaVezno"
      },
      "outputs": [],
      "source": [
        "input_cols=['pickup_longitude', 'pickup_latitude',\n",
        "       'dropoff_longitude', 'dropoff_latitude', 'passenger_count',\n",
        "       'pickup_datetime_year', 'pickup_datetime_month', 'pickup_datetime_day',\n",
        "       'pickup_datetime_weekday', 'pickup_datetime_hour', 'trip_distance',\n",
        "       'jfk_drop_distance', 'lga_drop_distance', 'ewr_drop_distance',\n",
        "       'met_drop_distance', 'wtc_drop_distance']"
      ]
    },
    {
      "cell_type": "code",
      "execution_count": 95,
      "metadata": {
        "id": "ViKP7z4Ne97f"
      },
      "outputs": [],
      "source": [
        "target_col='fare_amount'"
      ]
    },
    {
      "cell_type": "code",
      "execution_count": 96,
      "metadata": {
        "id": "JeQqEC4WfGVj"
      },
      "outputs": [],
      "source": [
        "train_inputs=train_df[input_cols]\n",
        "train_targets=train_df[target_col]\n"
      ]
    },
    {
      "cell_type": "code",
      "execution_count": 97,
      "metadata": {
        "id": "W2jnv_j9fia1"
      },
      "outputs": [],
      "source": [
        "val_inputs=val_df[input_cols]\n",
        "val_targets=val_df[target_col]"
      ]
    },
    {
      "cell_type": "code",
      "execution_count": 98,
      "metadata": {
        "id": "jkIbH-RGgJyk"
      },
      "outputs": [],
      "source": [
        "test_inputs = test_df[input_cols]"
      ]
    },
    {
      "cell_type": "code",
      "execution_count": 99,
      "metadata": {
        "id": "c9wGCq2chQsu"
      },
      "outputs": [],
      "source": [
        "def evaluate(model):\n",
        "    train_preds = model.predict(train_inputs)\n",
        "    train_rmse = mean_squared_error(train_targets, train_preds, squared=False)\n",
        "    val_preds = model.predict(val_inputs)\n",
        "    val_rmse = mean_squared_error(val_targets, val_preds, squared=False)\n",
        "    return train_rmse, val_rmse, train_preds, val_preds"
      ]
    },
    {
      "cell_type": "markdown",
      "metadata": {
        "id": "x5E0r5jqjWTb"
      },
      "source": [
        "##Ridge Regression"
      ]
    },
    {
      "cell_type": "code",
      "execution_count": 100,
      "metadata": {
        "id": "ONTr9Etfiwxa"
      },
      "outputs": [],
      "source": [
        "from sklearn.linear_model import Ridge"
      ]
    },
    {
      "cell_type": "code",
      "execution_count": 101,
      "metadata": {
        "id": "OEImbCTRiy0E"
      },
      "outputs": [],
      "source": [
        "model1=Ridge(random_state=42,alpha=0.9)"
      ]
    },
    {
      "cell_type": "code",
      "execution_count": 102,
      "metadata": {
        "colab": {
          "base_uri": "https://localhost:8080/"
        },
        "id": "ZN-7Mmqajwq7",
        "outputId": "1415e8bd-51d7-4c2e-fae8-f79417ea0efc"
      },
      "outputs": [
        {
          "output_type": "execute_result",
          "data": {
            "text/plain": [
              "Ridge(alpha=0.9, random_state=42)"
            ]
          },
          "metadata": {},
          "execution_count": 102
        }
      ],
      "source": [
        "\n",
        "model1.fit(train_inputs,train_targets)"
      ]
    },
    {
      "cell_type": "code",
      "execution_count": 103,
      "metadata": {
        "colab": {
          "base_uri": "https://localhost:8080/"
        },
        "id": "T_nYr8K2j6sC",
        "outputId": "2b329ba8-0af4-49a8-a877-6c982fc1e2bf"
      },
      "outputs": [
        {
          "output_type": "execute_result",
          "data": {
            "text/plain": [
              "(5.049314043918831,\n",
              " 5.217845618599148,\n",
              " array([ 8.12923647,  4.11617242,  8.75016006, ..., 10.47209139,\n",
              "         8.2307147 , 10.5869553 ]),\n",
              " array([10.91913868,  6.20507267, 46.2188478 , ...,  8.04612766,\n",
              "        25.56777317,  8.45283364]))"
            ]
          },
          "metadata": {},
          "execution_count": 103
        }
      ],
      "source": [
        "evaluate(model1)"
      ]
    },
    {
      "cell_type": "code",
      "execution_count": 104,
      "metadata": {
        "colab": {
          "base_uri": "https://localhost:8080/"
        },
        "id": "yEO--nlBksfy",
        "outputId": "1cb36d15-a752-4dd6-a120-68c3a7506f85"
      },
      "outputs": [
        {
          "output_type": "execute_result",
          "data": {
            "text/plain": [
              "(431098, 16)"
            ]
          },
          "metadata": {},
          "execution_count": 104
        }
      ],
      "source": [
        "train_inputs.shape"
      ]
    },
    {
      "cell_type": "code",
      "execution_count": 104,
      "metadata": {
        "id": "kX8CerPkmCwm"
      },
      "outputs": [],
      "source": [
        ""
      ]
    },
    {
      "cell_type": "markdown",
      "metadata": {
        "id": "pBRDI8TpmndB"
      },
      "source": [
        "###Random Forest"
      ]
    },
    {
      "cell_type": "code",
      "execution_count": 105,
      "metadata": {
        "id": "aJZ-KRFsmrgt"
      },
      "outputs": [],
      "source": [
        "from sklearn.ensemble import RandomForestRegressor"
      ]
    },
    {
      "cell_type": "code",
      "execution_count": 106,
      "metadata": {
        "id": "SlbAEHDSm5v_"
      },
      "outputs": [],
      "source": [
        "model2 = RandomForestRegressor(max_depth=10, n_jobs=-1, random_state=42, n_estimators=50)"
      ]
    },
    {
      "cell_type": "code",
      "execution_count": 107,
      "metadata": {
        "colab": {
          "base_uri": "https://localhost:8080/"
        },
        "id": "-9qvhbvXnDIX",
        "outputId": "4f105f47-8fee-4ccf-8651-8ac8492a8bbc"
      },
      "outputs": [
        {
          "output_type": "execute_result",
          "data": {
            "text/plain": [
              "RandomForestRegressor(max_depth=10, n_estimators=50, n_jobs=-1, random_state=42)"
            ]
          },
          "metadata": {},
          "execution_count": 107
        }
      ],
      "source": [
        "model2.fit(train_inputs, train_targets)"
      ]
    },
    {
      "cell_type": "code",
      "execution_count": 108,
      "metadata": {
        "colab": {
          "base_uri": "https://localhost:8080/"
        },
        "id": "0D11Dl-HnIUg",
        "outputId": "e7043aec-a094-4b7b-e408-f7fec78a6852"
      },
      "outputs": [
        {
          "output_type": "execute_result",
          "data": {
            "text/plain": [
              "(3.6022913838561528,\n",
              " 4.167257655248953,\n",
              " array([ 7.06907907,  9.09651906,  9.09834234, ..., 10.39574834,\n",
              "         7.73362485, 10.36404777]),\n",
              " array([12.53923917,  6.14414213, 47.3274893 , ...,  8.32839336,\n",
              "        29.20883778,  8.27729971]))"
            ]
          },
          "metadata": {},
          "execution_count": 108
        }
      ],
      "source": [
        "evaluate(model2)\n"
      ]
    },
    {
      "cell_type": "markdown",
      "metadata": {
        "id": "ATE7lkq6oCIg"
      },
      "source": [
        "##Gradient Boosting"
      ]
    },
    {
      "cell_type": "code",
      "execution_count": 109,
      "metadata": {
        "id": "sntqA52hn74r"
      },
      "outputs": [],
      "source": [
        "from xgboost import XGBRegressor"
      ]
    },
    {
      "cell_type": "code",
      "execution_count": 110,
      "metadata": {
        "id": "MGpHtjDXoGYD"
      },
      "outputs": [],
      "source": [
        "model3 = XGBRegressor(random_state=42, n_jobs=-1, objective='reg:squarederror')"
      ]
    },
    {
      "cell_type": "code",
      "execution_count": 111,
      "metadata": {
        "colab": {
          "base_uri": "https://localhost:8080/"
        },
        "id": "WXk4Jp-noKaQ",
        "outputId": "a3a8463b-7170-461d-9fdb-c5ae4a03756b"
      },
      "outputs": [
        {
          "output_type": "execute_result",
          "data": {
            "text/plain": [
              "XGBRegressor(n_jobs=-1, objective='reg:squarederror', random_state=42)"
            ]
          },
          "metadata": {},
          "execution_count": 111
        }
      ],
      "source": [
        "model3.fit(train_inputs, train_targets)"
      ]
    },
    {
      "cell_type": "code",
      "execution_count": 112,
      "metadata": {
        "colab": {
          "base_uri": "https://localhost:8080/"
        },
        "id": "4MtsvzlnoM4M",
        "outputId": "2521d4e0-10ee-4bab-a27c-add4e8d1e3a3"
      },
      "outputs": [
        {
          "output_type": "execute_result",
          "data": {
            "text/plain": [
              "(3.879053,\n",
              " 4.2217526,\n",
              " array([ 6.6994143,  9.161248 ,  9.574939 , ..., 10.394749 ,  8.265368 ,\n",
              "        10.1085   ], dtype=float32),\n",
              " array([12.318071 ,  6.3984184, 47.9326   , ...,  8.086578 , 29.583286 ,\n",
              "         8.507793 ], dtype=float32))"
            ]
          },
          "metadata": {},
          "execution_count": 112
        }
      ],
      "source": [
        "evaluate(model3)"
      ]
    },
    {
      "cell_type": "markdown",
      "metadata": {
        "id": "TJdNqPqZu3jP"
      },
      "source": [
        "#Training hyperparameters"
      ]
    },
    {
      "cell_type": "code",
      "execution_count": 113,
      "metadata": {
        "id": "qG6QRnnLocwH"
      },
      "outputs": [],
      "source": [
        "import matplotlib.pyplot as plt\n",
        "\n",
        "def test_params(ModelClass, **params):\n",
        "    \"\"\"Trains a model with the given parameters and returns training & validation RMSE\"\"\"\n",
        "    model = ModelClass(**params).fit(train_inputs, train_targets)\n",
        "    train_rmse = mean_squared_error(model.predict(train_inputs), train_targets, squared=False)\n",
        "    val_rmse = mean_squared_error(model.predict(val_inputs), val_targets, squared=False)\n",
        "    return train_rmse, val_rmse\n",
        "\n",
        "def test_param_and_plot(ModelClass, param_name, param_values, **other_params):\n",
        "    \"\"\"Trains multiple models by varying the value of param_name according to param_values\"\"\"\n",
        "    train_errors, val_errors = [], [] \n",
        "    for value in param_values:\n",
        "        params = dict(other_params)\n",
        "        params[param_name] = value\n",
        "        train_rmse, val_rmse = test_params(ModelClass, **params)\n",
        "        train_errors.append(train_rmse)\n",
        "        val_errors.append(val_rmse)\n",
        "    \n",
        "    plt.figure(figsize=(10,6))\n",
        "    plt.title('Overfitting curve: ' + param_name)\n",
        "    plt.plot(param_values, train_errors, 'b-o')\n",
        "    plt.plot(param_values, val_errors, 'r-o')\n",
        "    plt.xlabel(param_name)\n",
        "    plt.ylabel('RMSE')\n",
        "    plt.legend(['Training', 'Validation'])"
      ]
    },
    {
      "cell_type": "code",
      "execution_count": 114,
      "metadata": {
        "id": "9_v-g-YA31io"
      },
      "outputs": [],
      "source": [
        "best_params = {\n",
        "    'random_state': 42,\n",
        "    'n_jobs': -1,\n",
        "    'objective': 'reg:squarederror'\n",
        "}"
      ]
    },
    {
      "cell_type": "markdown",
      "metadata": {
        "id": "IHXjJZt24CQK"
      },
      "source": [
        "**NO of Trees**"
      ]
    },
    {
      "cell_type": "code",
      "execution_count": 115,
      "metadata": {
        "colab": {
          "base_uri": "https://localhost:8080/",
          "height": 440
        },
        "id": "8N7h9Vsp334I",
        "outputId": "94c4bda8-9c64-4282-da9b-f171371e6aa4"
      },
      "outputs": [
        {
          "output_type": "stream",
          "name": "stdout",
          "text": [
            "CPU times: user 12min 3s, sys: 1.39 s, total: 12min 4s\n",
            "Wall time: 6min 24s\n"
          ]
        },
        {
          "output_type": "display_data",
          "data": {
            "text/plain": [
              "<Figure size 720x432 with 1 Axes>"
            ],
            "image/png": "[encoded data removed]"
          },
          "metadata": {
            "needs_background": "light"
          }
        }
      ],
      "source": [
        "%%time \n",
        "test_param_and_plot(XGBRegressor, 'n_estimators', [100, 250, 500], **best_params)"
      ]
    },
    {
      "cell_type": "code",
      "execution_count": 116,
      "metadata": {
        "id": "xFrqlzdZ36HX"
      },
      "outputs": [],
      "source": [
        "best_params['n_estimators'] = 250"
      ]
    },
    {
      "cell_type": "markdown",
      "metadata": {
        "id": "H056DfHH5rVq"
      },
      "source": [
        "## Max Depth"
      ]
    },
    {
      "cell_type": "code",
      "execution_count": 117,
      "metadata": {
        "colab": {
          "base_uri": "https://localhost:8080/",
          "height": 440
        },
        "id": "Fb78hZYd5plX",
        "outputId": "019b1944-a2c0-49c7-edce-19824a9b5ded"
      },
      "outputs": [
        {
          "output_type": "stream",
          "name": "stdout",
          "text": [
            "CPU times: user 13min 52s, sys: 1.57 s, total: 13min 53s\n",
            "Wall time: 7min 13s\n"
          ]
        },
        {
          "output_type": "display_data",
          "data": {
            "text/plain": [
              "<Figure size 720x432 with 1 Axes>"
            ],
            "image/png": "[encoded data removed]"
          },
          "metadata": {
            "needs_background": "light"
          }
        }
      ],
      "source": [
        "%%time \n",
        "test_param_and_plot(XGBRegressor, 'max_depth', [3, 4, 5], **best_params)"
      ]
    },
    {
      "cell_type": "code",
      "execution_count": 118,
      "metadata": {
        "id": "_LYN7iUu5wLo"
      },
      "outputs": [],
      "source": [
        "best_params['max_depth'] = 5"
      ]
    },
    {
      "cell_type": "markdown",
      "source": [
        "#Learning Rate"
      ],
      "metadata": {
        "id": "xknoRAzFvzpk"
      }
    },
    {
      "cell_type": "code",
      "source": [
        "%%time\n",
        "test_param_and_plot(XGBRegressor, 'learning_rate', [0.05, 0.1, 0.25], **best_params)"
      ],
      "metadata": {
        "colab": {
          "base_uri": "https://localhost:8080/",
          "height": 440
        },
        "id": "CmxOR9T2vpL4",
        "outputId": "d66acb29-6c90-42dc-a878-4c5819f75c4d"
      },
      "execution_count": 119,
      "outputs": [
        {
          "output_type": "stream",
          "name": "stdout",
          "text": [
            "CPU times: user 17min 57s, sys: 1.72 s, total: 17min 59s\n",
            "Wall time: 9min 25s\n"
          ]
        },
        {
          "output_type": "display_data",
          "data": {
            "text/plain": [
              "<Figure size 720x432 with 1 Axes>"
            ],
            "image/png": "[encoded data removed]"
          },
          "metadata": {
            "needs_background": "light"
          }
        }
      ]
    },
    {
      "cell_type": "code",
      "source": [
        "best_params['learning_rate'] = 0.25"
      ],
      "metadata": {
        "id": "Z5mwMY1GvsnY"
      },
      "execution_count": 120,
      "outputs": []
    },
    {
      "cell_type": "markdown",
      "source": [
        "#Other Parameters"
      ],
      "metadata": {
        "id": "Iu8EX7IR0slE"
      }
    },
    {
      "cell_type": "code",
      "source": [
        "xgb_model_final = XGBRegressor(objective='reg:squarederror', n_jobs=-1, random_state=42,\n",
        "                               n_estimators=500, max_depth=5, learning_rate=0.1, \n",
        "                               subsample=0.8, colsample_bytree=0.8)"
      ],
      "metadata": {
        "id": "2fmiH0Jd0wRG"
      },
      "execution_count": 121,
      "outputs": []
    },
    {
      "cell_type": "code",
      "source": [
        "%%time\n",
        "xgb_model_final.fit(train_inputs, train_targets)"
      ],
      "metadata": {
        "colab": {
          "base_uri": "https://localhost:8080/"
        },
        "id": "EFvhgNUw0x9n",
        "outputId": "0f11ae4f-aa4a-4b84-c472-0952ad27b2db"
      },
      "execution_count": 122,
      "outputs": [
        {
          "output_type": "stream",
          "name": "stdout",
          "text": [
            "CPU times: user 9min 35s, sys: 1.15 s, total: 9min 36s\n",
            "Wall time: 4min 59s\n"
          ]
        },
        {
          "output_type": "execute_result",
          "data": {
            "text/plain": [
              "XGBRegressor(colsample_bytree=0.8, max_depth=5, n_estimators=500, n_jobs=-1,\n",
              "             objective='reg:squarederror', random_state=42, subsample=0.8)"
            ]
          },
          "metadata": {},
          "execution_count": 122
        }
      ]
    },
    {
      "cell_type": "code",
      "source": [
        "evaluate(xgb_model_final)"
      ],
      "metadata": {
        "colab": {
          "base_uri": "https://localhost:8080/"
        },
        "id": "waBboOjv01O3",
        "outputId": "20d17601-c6db-4668-f80d-ba2f1e432e7e"
      },
      "execution_count": 123,
      "outputs": [
        {
          "output_type": "execute_result",
          "data": {
            "text/plain": [
              "(3.151729,\n",
              " 3.9472775,\n",
              " array([ 6.409039 ,  7.37552  ,  9.897856 , ..., 11.418503 ,  8.842723 ,\n",
              "        10.4735365], dtype=float32),\n",
              " array([13.954995 ,  6.1164503, 47.80559  , ...,  7.686546 , 29.838123 ,\n",
              "         8.789446 ], dtype=float32))"
            ]
          },
          "metadata": {},
          "execution_count": 123
        }
      ]
    },
    {
      "cell_type": "code",
      "source": [
        ""
      ],
      "metadata": {
        "id": "F9Y_lsEG5jWE"
      },
      "execution_count": null,
      "outputs": []
    }
  ],
  "metadata": {
    "colab": {
      "collapsed_sections": [],
      "name": "Untitled2.ipynb",
      "provenance": []
    },
    "kernelspec": {
      "display_name": "Python 3",
      "name": "python3"
    },
    "language_info": {
      "name": "python"
    }
  },
  "nbformat": 4,
  "nbformat_minor": 0
}